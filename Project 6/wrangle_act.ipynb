{
 "cells": [
  {
   "cell_type": "code",
   "execution_count": 1,
   "metadata": {},
   "outputs": [],
   "source": [
    "import pandas as pd\n",
    "import numpy as np\n",
    "import matplotlib.pyplot as plt\n",
    "import requests\n",
    "import tweepy\n",
    "\n",
    "%matplotlib inline"
   ]
  },
  {
   "cell_type": "markdown",
   "metadata": {},
   "source": [
    "### Gather"
   ]
  },
  {
   "cell_type": "code",
   "execution_count": 2,
   "metadata": {
    "collapsed": true
   },
   "outputs": [],
   "source": [
    "# Import twitter archive (given)\n",
    "twitter_archive = pd.read_csv('twitter-archive-enhanced.csv')"
   ]
  },
  {
   "cell_type": "code",
   "execution_count": 3,
   "metadata": {
    "collapsed": true
   },
   "outputs": [],
   "source": [
    "# # Programmatically downlaod and store tweet image prediction data using requests\n",
    "# r = requests.get('https://d17h27t6h515a5.cloudfront.net/topher/2017/August/599fd2ad_image-predictions/image-predictions.tsv')\n",
    "# with open('image-predictions.tsv', 'w') as fp:\n",
    "#     for line in r.text.splitlines():\n",
    "#         fp.write(line + '\\n')"
   ]
  },
  {
   "cell_type": "code",
   "execution_count": 4,
   "metadata": {
    "collapsed": true
   },
   "outputs": [],
   "source": [
    "# Import iamge prediction data\n",
    "image_prediction = pd.read_csv('image-predictions.tsv', sep = '\\t')"
   ]
  },
  {
   "cell_type": "code",
   "execution_count": 5,
   "metadata": {},
   "outputs": [],
   "source": [
    "# #Gather retweet count and favorite count of each tweet through API\n",
    "# consumer_key = '0yIMZ7lBmfngmyPMBvAu3b8WO'\n",
    "# consumer_secret = 'nVMhImoJV3hOhPfSgFCYl7AslfonPkI1teJgh2l41eDX5Rt4LE'\n",
    "# access_token = '356266427-Ur8d4FJy8Mct6Lboe1Ru5IZE0imv6sCL9dhfkmHF'\n",
    "# access_secret = '76dGM1qn4Xqk2BVATRkjSjkzllwcYMHz4EU0gYmGLGq3d'\n",
    "# auth = tweepy.OAuthHandler(consumer_key, consumer_secret)\n",
    "# auth.set_access_token(access_token, access_secret)\n",
    "# api = tweepy.API(auth, wait_on_rate_limit=True, wait_on_rate_limit_notify=True)\n",
    "\n",
    "# #Write retweet count and favorite count of each tweet in 'tweet_json.txt'\n",
    "# with open('tweet_json.txt', 'w') as file:\n",
    "#     file.write('tweet_id,retweet_count,favourite_count\\n')\n",
    "#     for tweet_id in twitter_archive.tweet_id:\n",
    "#         try:\n",
    "#             tweet = api.get_status(id = tweet_id)\n",
    "#             retweet_count = tweet.retweet_count\n",
    "#             fav_count = tweet.favorite_count\n",
    "#             tweet.retwe\n",
    "#             text = '{},{},{}\\n'.format(tweet_id,retweet_count,fav_count)\n",
    "#             file.write(text)\n",
    "#         except:\n",
    "#             next"
   ]
  },
  {
   "cell_type": "code",
   "execution_count": 6,
   "metadata": {
    "collapsed": true
   },
   "outputs": [],
   "source": [
    "# Import retweet count and favorite count data (tweet_json.txt)\n",
    "tweet_counts = pd.read_csv('tweet_json.txt')"
   ]
  },
  {
   "cell_type": "markdown",
   "metadata": {},
   "source": [
    "### Assess"
   ]
  },
  {
   "cell_type": "code",
   "execution_count": 7,
   "metadata": {},
   "outputs": [
    {
     "name": "stdout",
     "output_type": "stream",
     "text": [
      "<class 'pandas.core.frame.DataFrame'>\n",
      "RangeIndex: 2356 entries, 0 to 2355\n",
      "Data columns (total 17 columns):\n",
      "tweet_id                      2356 non-null int64\n",
      "in_reply_to_status_id         78 non-null float64\n",
      "in_reply_to_user_id           78 non-null float64\n",
      "timestamp                     2356 non-null object\n",
      "source                        2356 non-null object\n",
      "text                          2356 non-null object\n",
      "retweeted_status_id           181 non-null float64\n",
      "retweeted_status_user_id      181 non-null float64\n",
      "retweeted_status_timestamp    181 non-null object\n",
      "expanded_urls                 2297 non-null object\n",
      "rating_numerator              2356 non-null int64\n",
      "rating_denominator            2356 non-null int64\n",
      "name                          2356 non-null object\n",
      "doggo                         2356 non-null object\n",
      "floofer                       2356 non-null object\n",
      "pupper                        2356 non-null object\n",
      "puppo                         2356 non-null object\n",
      "dtypes: float64(4), int64(3), object(10)\n",
      "memory usage: 313.0+ KB\n"
     ]
    }
   ],
   "source": [
    "twitter_archive.info()"
   ]
  },
  {
   "cell_type": "code",
   "execution_count": 8,
   "metadata": {},
   "outputs": [
    {
     "data": {
      "text/html": [
       "<div>\n",
       "<style>\n",
       "    .dataframe thead tr:only-child th {\n",
       "        text-align: right;\n",
       "    }\n",
       "\n",
       "    .dataframe thead th {\n",
       "        text-align: left;\n",
       "    }\n",
       "\n",
       "    .dataframe tbody tr th {\n",
       "        vertical-align: top;\n",
       "    }\n",
       "</style>\n",
       "<table border=\"1\" class=\"dataframe\">\n",
       "  <thead>\n",
       "    <tr style=\"text-align: right;\">\n",
       "      <th></th>\n",
       "      <th>tweet_id</th>\n",
       "      <th>in_reply_to_status_id</th>\n",
       "      <th>in_reply_to_user_id</th>\n",
       "      <th>timestamp</th>\n",
       "      <th>source</th>\n",
       "      <th>text</th>\n",
       "      <th>retweeted_status_id</th>\n",
       "      <th>retweeted_status_user_id</th>\n",
       "      <th>retweeted_status_timestamp</th>\n",
       "      <th>expanded_urls</th>\n",
       "      <th>rating_numerator</th>\n",
       "      <th>rating_denominator</th>\n",
       "      <th>name</th>\n",
       "      <th>doggo</th>\n",
       "      <th>floofer</th>\n",
       "      <th>pupper</th>\n",
       "      <th>puppo</th>\n",
       "    </tr>\n",
       "  </thead>\n",
       "  <tbody>\n",
       "    <tr>\n",
       "      <th>0</th>\n",
       "      <td>892420643555336193</td>\n",
       "      <td>NaN</td>\n",
       "      <td>NaN</td>\n",
       "      <td>2017-08-01 16:23:56 +0000</td>\n",
       "      <td>&lt;a href=\"http://twitter.com/download/iphone\" r...</td>\n",
       "      <td>This is Phineas. He's a mystical boy. Only eve...</td>\n",
       "      <td>NaN</td>\n",
       "      <td>NaN</td>\n",
       "      <td>NaN</td>\n",
       "      <td>https://twitter.com/dog_rates/status/892420643...</td>\n",
       "      <td>13</td>\n",
       "      <td>10</td>\n",
       "      <td>Phineas</td>\n",
       "      <td>None</td>\n",
       "      <td>None</td>\n",
       "      <td>None</td>\n",
       "      <td>None</td>\n",
       "    </tr>\n",
       "    <tr>\n",
       "      <th>1</th>\n",
       "      <td>892177421306343426</td>\n",
       "      <td>NaN</td>\n",
       "      <td>NaN</td>\n",
       "      <td>2017-08-01 00:17:27 +0000</td>\n",
       "      <td>&lt;a href=\"http://twitter.com/download/iphone\" r...</td>\n",
       "      <td>This is Tilly. She's just checking pup on you....</td>\n",
       "      <td>NaN</td>\n",
       "      <td>NaN</td>\n",
       "      <td>NaN</td>\n",
       "      <td>https://twitter.com/dog_rates/status/892177421...</td>\n",
       "      <td>13</td>\n",
       "      <td>10</td>\n",
       "      <td>Tilly</td>\n",
       "      <td>None</td>\n",
       "      <td>None</td>\n",
       "      <td>None</td>\n",
       "      <td>None</td>\n",
       "    </tr>\n",
       "    <tr>\n",
       "      <th>2</th>\n",
       "      <td>891815181378084864</td>\n",
       "      <td>NaN</td>\n",
       "      <td>NaN</td>\n",
       "      <td>2017-07-31 00:18:03 +0000</td>\n",
       "      <td>&lt;a href=\"http://twitter.com/download/iphone\" r...</td>\n",
       "      <td>This is Archie. He is a rare Norwegian Pouncin...</td>\n",
       "      <td>NaN</td>\n",
       "      <td>NaN</td>\n",
       "      <td>NaN</td>\n",
       "      <td>https://twitter.com/dog_rates/status/891815181...</td>\n",
       "      <td>12</td>\n",
       "      <td>10</td>\n",
       "      <td>Archie</td>\n",
       "      <td>None</td>\n",
       "      <td>None</td>\n",
       "      <td>None</td>\n",
       "      <td>None</td>\n",
       "    </tr>\n",
       "    <tr>\n",
       "      <th>3</th>\n",
       "      <td>891689557279858688</td>\n",
       "      <td>NaN</td>\n",
       "      <td>NaN</td>\n",
       "      <td>2017-07-30 15:58:51 +0000</td>\n",
       "      <td>&lt;a href=\"http://twitter.com/download/iphone\" r...</td>\n",
       "      <td>This is Darla. She commenced a snooze mid meal...</td>\n",
       "      <td>NaN</td>\n",
       "      <td>NaN</td>\n",
       "      <td>NaN</td>\n",
       "      <td>https://twitter.com/dog_rates/status/891689557...</td>\n",
       "      <td>13</td>\n",
       "      <td>10</td>\n",
       "      <td>Darla</td>\n",
       "      <td>None</td>\n",
       "      <td>None</td>\n",
       "      <td>None</td>\n",
       "      <td>None</td>\n",
       "    </tr>\n",
       "    <tr>\n",
       "      <th>4</th>\n",
       "      <td>891327558926688256</td>\n",
       "      <td>NaN</td>\n",
       "      <td>NaN</td>\n",
       "      <td>2017-07-29 16:00:24 +0000</td>\n",
       "      <td>&lt;a href=\"http://twitter.com/download/iphone\" r...</td>\n",
       "      <td>This is Franklin. He would like you to stop ca...</td>\n",
       "      <td>NaN</td>\n",
       "      <td>NaN</td>\n",
       "      <td>NaN</td>\n",
       "      <td>https://twitter.com/dog_rates/status/891327558...</td>\n",
       "      <td>12</td>\n",
       "      <td>10</td>\n",
       "      <td>Franklin</td>\n",
       "      <td>None</td>\n",
       "      <td>None</td>\n",
       "      <td>None</td>\n",
       "      <td>None</td>\n",
       "    </tr>\n",
       "  </tbody>\n",
       "</table>\n",
       "</div>"
      ],
      "text/plain": [
       "             tweet_id  in_reply_to_status_id  in_reply_to_user_id  \\\n",
       "0  892420643555336193                    NaN                  NaN   \n",
       "1  892177421306343426                    NaN                  NaN   \n",
       "2  891815181378084864                    NaN                  NaN   \n",
       "3  891689557279858688                    NaN                  NaN   \n",
       "4  891327558926688256                    NaN                  NaN   \n",
       "\n",
       "                   timestamp  \\\n",
       "0  2017-08-01 16:23:56 +0000   \n",
       "1  2017-08-01 00:17:27 +0000   \n",
       "2  2017-07-31 00:18:03 +0000   \n",
       "3  2017-07-30 15:58:51 +0000   \n",
       "4  2017-07-29 16:00:24 +0000   \n",
       "\n",
       "                                              source  \\\n",
       "0  <a href=\"http://twitter.com/download/iphone\" r...   \n",
       "1  <a href=\"http://twitter.com/download/iphone\" r...   \n",
       "2  <a href=\"http://twitter.com/download/iphone\" r...   \n",
       "3  <a href=\"http://twitter.com/download/iphone\" r...   \n",
       "4  <a href=\"http://twitter.com/download/iphone\" r...   \n",
       "\n",
       "                                                text  retweeted_status_id  \\\n",
       "0  This is Phineas. He's a mystical boy. Only eve...                  NaN   \n",
       "1  This is Tilly. She's just checking pup on you....                  NaN   \n",
       "2  This is Archie. He is a rare Norwegian Pouncin...                  NaN   \n",
       "3  This is Darla. She commenced a snooze mid meal...                  NaN   \n",
       "4  This is Franklin. He would like you to stop ca...                  NaN   \n",
       "\n",
       "   retweeted_status_user_id retweeted_status_timestamp  \\\n",
       "0                       NaN                        NaN   \n",
       "1                       NaN                        NaN   \n",
       "2                       NaN                        NaN   \n",
       "3                       NaN                        NaN   \n",
       "4                       NaN                        NaN   \n",
       "\n",
       "                                       expanded_urls  rating_numerator  \\\n",
       "0  https://twitter.com/dog_rates/status/892420643...                13   \n",
       "1  https://twitter.com/dog_rates/status/892177421...                13   \n",
       "2  https://twitter.com/dog_rates/status/891815181...                12   \n",
       "3  https://twitter.com/dog_rates/status/891689557...                13   \n",
       "4  https://twitter.com/dog_rates/status/891327558...                12   \n",
       "\n",
       "   rating_denominator      name doggo floofer pupper puppo  \n",
       "0                  10   Phineas  None    None   None  None  \n",
       "1                  10     Tilly  None    None   None  None  \n",
       "2                  10    Archie  None    None   None  None  \n",
       "3                  10     Darla  None    None   None  None  \n",
       "4                  10  Franklin  None    None   None  None  "
      ]
     },
     "execution_count": 8,
     "metadata": {},
     "output_type": "execute_result"
    }
   ],
   "source": [
    "twitter_archive.head()"
   ]
  },
  {
   "cell_type": "markdown",
   "metadata": {},
   "source": [
    "The id columns should be converted to string. The timestamps column should be converted to timestamp."
   ]
  },
  {
   "cell_type": "code",
   "execution_count": 9,
   "metadata": {},
   "outputs": [
    {
     "data": {
      "text/plain": [
       "array([ '<a href=\"http://twitter.com/download/iphone\" rel=\"nofollow\">Twitter for iPhone</a>',\n",
       "       '<a href=\"http://twitter.com\" rel=\"nofollow\">Twitter Web Client</a>',\n",
       "       '<a href=\"http://vine.co\" rel=\"nofollow\">Vine - Make a Scene</a>',\n",
       "       '<a href=\"https://about.twitter.com/products/tweetdeck\" rel=\"nofollow\">TweetDeck</a>'], dtype=object)"
      ]
     },
     "execution_count": 9,
     "metadata": {},
     "output_type": "execute_result"
    }
   ],
   "source": [
    "twitter_archive.source.unique()"
   ]
  },
  {
   "cell_type": "markdown",
   "metadata": {},
   "source": [
    "The source column is hard to read. Need some clean up."
   ]
  },
  {
   "cell_type": "code",
   "execution_count": 10,
   "metadata": {},
   "outputs": [
    {
     "data": {
      "text/plain": [
       "10     2333\n",
       "11        3\n",
       "50        3\n",
       "80        2\n",
       "20        2\n",
       "2         1\n",
       "16        1\n",
       "40        1\n",
       "70        1\n",
       "15        1\n",
       "90        1\n",
       "110       1\n",
       "120       1\n",
       "130       1\n",
       "150       1\n",
       "170       1\n",
       "7         1\n",
       "0         1\n",
       "Name: rating_denominator, dtype: int64"
      ]
     },
     "execution_count": 10,
     "metadata": {},
     "output_type": "execute_result"
    }
   ],
   "source": [
    "twitter_archive.rating_denominator.value_counts()"
   ]
  },
  {
   "cell_type": "markdown",
   "metadata": {},
   "source": [
    "Some denominators are not 10. "
   ]
  },
  {
   "cell_type": "code",
   "execution_count": 11,
   "metadata": {},
   "outputs": [
    {
     "data": {
      "text/plain": [
       "12      558\n",
       "11      464\n",
       "10      461\n",
       "13      351\n",
       "9       158\n",
       "8       102\n",
       "7        55\n",
       "14       54\n",
       "5        37\n",
       "6        32\n",
       "3        19\n",
       "4        17\n",
       "1         9\n",
       "2         9\n",
       "420       2\n",
       "0         2\n",
       "15        2\n",
       "75        2\n",
       "80        1\n",
       "20        1\n",
       "24        1\n",
       "26        1\n",
       "44        1\n",
       "50        1\n",
       "60        1\n",
       "165       1\n",
       "84        1\n",
       "88        1\n",
       "144       1\n",
       "182       1\n",
       "143       1\n",
       "666       1\n",
       "960       1\n",
       "1776      1\n",
       "17        1\n",
       "27        1\n",
       "45        1\n",
       "99        1\n",
       "121       1\n",
       "204       1\n",
       "Name: rating_numerator, dtype: int64"
      ]
     },
     "execution_count": 11,
     "metadata": {},
     "output_type": "execute_result"
    }
   ],
   "source": [
    "twitter_archive.rating_numerator.value_counts()"
   ]
  },
  {
   "cell_type": "code",
   "execution_count": 12,
   "metadata": {},
   "outputs": [
    {
     "data": {
      "text/plain": [
       "None           745\n",
       "a               55\n",
       "Charlie         12\n",
       "Cooper          11\n",
       "Oliver          11\n",
       "Lucy            11\n",
       "Tucker          10\n",
       "Penny           10\n",
       "Lola            10\n",
       "Bo               9\n",
       "Winston          9\n",
       "Sadie            8\n",
       "the              8\n",
       "an               7\n",
       "Toby             7\n",
       "Bailey           7\n",
       "Daisy            7\n",
       "Buddy            7\n",
       "Dave             6\n",
       "Scout            6\n",
       "Koda             6\n",
       "Stanley          6\n",
       "Bella            6\n",
       "Oscar            6\n",
       "Jax              6\n",
       "Rusty            6\n",
       "Milo             6\n",
       "Jack             6\n",
       "Leo              6\n",
       "Oakley           5\n",
       "              ... \n",
       "Tuck             1\n",
       "Banditt          1\n",
       "Tedrick          1\n",
       "Kody             1\n",
       "Kirk             1\n",
       "Petrick          1\n",
       "Kial             1\n",
       "Bobble           1\n",
       "Humphrey         1\n",
       "Mookie           1\n",
       "Rumpole          1\n",
       "Monster          1\n",
       "my               1\n",
       "Obi              1\n",
       "Howie            1\n",
       "Aubie            1\n",
       "Traviss          1\n",
       "Ben              1\n",
       "Rolf             1\n",
       "Mac              1\n",
       "Mark             1\n",
       "Bertson          1\n",
       "infuriating      1\n",
       "Mairi            1\n",
       "Joshwa           1\n",
       "Izzy             1\n",
       "Peanut           1\n",
       "Tanner           1\n",
       "Enchilada        1\n",
       "Pippin           1\n",
       "Name: name, Length: 957, dtype: int64"
      ]
     },
     "execution_count": 12,
     "metadata": {},
     "output_type": "execute_result"
    }
   ],
   "source": [
    "twitter_archive.name.value_counts()"
   ]
  },
  {
   "cell_type": "code",
   "execution_count": 13,
   "metadata": {},
   "outputs": [
    {
     "data": {
      "text/plain": [
       "a               55\n",
       "the              8\n",
       "an               7\n",
       "very             5\n",
       "just             4\n",
       "one              4\n",
       "quite            4\n",
       "getting          2\n",
       "mad              2\n",
       "not              2\n",
       "actually         2\n",
       "life             1\n",
       "officially       1\n",
       "my               1\n",
       "infuriating      1\n",
       "space            1\n",
       "this             1\n",
       "by               1\n",
       "light            1\n",
       "such             1\n",
       "his              1\n",
       "all              1\n",
       "incredibly       1\n",
       "old              1\n",
       "unacceptable     1\n",
       "Name: name, dtype: int64"
      ]
     },
     "execution_count": 13,
     "metadata": {},
     "output_type": "execute_result"
    }
   ],
   "source": [
    "twitter_archive.name[twitter_archive.name.str[0].str.islower()].value_counts()"
   ]
  },
  {
   "cell_type": "markdown",
   "metadata": {},
   "source": [
    "There are missing names `None`. Also there are names that don't appear to be real names."
   ]
  },
  {
   "cell_type": "code",
   "execution_count": 14,
   "metadata": {},
   "outputs": [
    {
     "data": {
      "text/plain": [
       "array([ '<a href=\"http://twitter.com/download/iphone\" rel=\"nofollow\">Twitter for iPhone</a>',\n",
       "       '<a href=\"http://twitter.com\" rel=\"nofollow\">Twitter Web Client</a>',\n",
       "       '<a href=\"http://vine.co\" rel=\"nofollow\">Vine - Make a Scene</a>',\n",
       "       '<a href=\"https://about.twitter.com/products/tweetdeck\" rel=\"nofollow\">TweetDeck</a>'], dtype=object)"
      ]
     },
     "execution_count": 14,
     "metadata": {},
     "output_type": "execute_result"
    }
   ],
   "source": [
    "twitter_archive.source.unique()"
   ]
  },
  {
   "cell_type": "code",
   "execution_count": 15,
   "metadata": {},
   "outputs": [
    {
     "data": {
      "text/plain": [
       "None     2259\n",
       "doggo      97\n",
       "Name: doggo, dtype: int64"
      ]
     },
     "execution_count": 15,
     "metadata": {},
     "output_type": "execute_result"
    }
   ],
   "source": [
    "twitter_archive.doggo.value_counts()"
   ]
  },
  {
   "cell_type": "code",
   "execution_count": 16,
   "metadata": {},
   "outputs": [
    {
     "data": {
      "text/plain": [
       "None       2346\n",
       "floofer      10\n",
       "Name: floofer, dtype: int64"
      ]
     },
     "execution_count": 16,
     "metadata": {},
     "output_type": "execute_result"
    }
   ],
   "source": [
    "twitter_archive.floofer.value_counts()"
   ]
  },
  {
   "cell_type": "code",
   "execution_count": 17,
   "metadata": {},
   "outputs": [
    {
     "data": {
      "text/plain": [
       "None      2099\n",
       "pupper     257\n",
       "Name: pupper, dtype: int64"
      ]
     },
     "execution_count": 17,
     "metadata": {},
     "output_type": "execute_result"
    }
   ],
   "source": [
    "twitter_archive.pupper.value_counts()"
   ]
  },
  {
   "cell_type": "code",
   "execution_count": 18,
   "metadata": {},
   "outputs": [
    {
     "data": {
      "text/plain": [
       "None     2326\n",
       "puppo      30\n",
       "Name: puppo, dtype: int64"
      ]
     },
     "execution_count": 18,
     "metadata": {},
     "output_type": "execute_result"
    }
   ],
   "source": [
    "twitter_archive.puppo.value_counts()"
   ]
  },
  {
   "cell_type": "code",
   "execution_count": 19,
   "metadata": {},
   "outputs": [
    {
     "name": "stdout",
     "output_type": "stream",
     "text": [
      "<class 'pandas.core.frame.DataFrame'>\n",
      "RangeIndex: 2075 entries, 0 to 2074\n",
      "Data columns (total 12 columns):\n",
      "tweet_id    2075 non-null int64\n",
      "jpg_url     2075 non-null object\n",
      "img_num     2075 non-null int64\n",
      "p1          2075 non-null object\n",
      "p1_conf     2075 non-null float64\n",
      "p1_dog      2075 non-null bool\n",
      "p2          2075 non-null object\n",
      "p2_conf     2075 non-null float64\n",
      "p2_dog      2075 non-null bool\n",
      "p3          2075 non-null object\n",
      "p3_conf     2075 non-null float64\n",
      "p3_dog      2075 non-null bool\n",
      "dtypes: bool(3), float64(3), int64(2), object(4)\n",
      "memory usage: 152.1+ KB\n"
     ]
    }
   ],
   "source": [
    "image_prediction.info()"
   ]
  },
  {
   "cell_type": "code",
   "execution_count": 20,
   "metadata": {},
   "outputs": [
    {
     "data": {
      "text/html": [
       "<div>\n",
       "<style>\n",
       "    .dataframe thead tr:only-child th {\n",
       "        text-align: right;\n",
       "    }\n",
       "\n",
       "    .dataframe thead th {\n",
       "        text-align: left;\n",
       "    }\n",
       "\n",
       "    .dataframe tbody tr th {\n",
       "        vertical-align: top;\n",
       "    }\n",
       "</style>\n",
       "<table border=\"1\" class=\"dataframe\">\n",
       "  <thead>\n",
       "    <tr style=\"text-align: right;\">\n",
       "      <th></th>\n",
       "      <th>tweet_id</th>\n",
       "      <th>jpg_url</th>\n",
       "      <th>img_num</th>\n",
       "      <th>p1</th>\n",
       "      <th>p1_conf</th>\n",
       "      <th>p1_dog</th>\n",
       "      <th>p2</th>\n",
       "      <th>p2_conf</th>\n",
       "      <th>p2_dog</th>\n",
       "      <th>p3</th>\n",
       "      <th>p3_conf</th>\n",
       "      <th>p3_dog</th>\n",
       "    </tr>\n",
       "  </thead>\n",
       "  <tbody>\n",
       "    <tr>\n",
       "      <th>0</th>\n",
       "      <td>666020888022790149</td>\n",
       "      <td>https://pbs.twimg.com/media/CT4udn0WwAA0aMy.jpg</td>\n",
       "      <td>1</td>\n",
       "      <td>Welsh_springer_spaniel</td>\n",
       "      <td>0.465074</td>\n",
       "      <td>True</td>\n",
       "      <td>collie</td>\n",
       "      <td>0.156665</td>\n",
       "      <td>True</td>\n",
       "      <td>Shetland_sheepdog</td>\n",
       "      <td>0.061428</td>\n",
       "      <td>True</td>\n",
       "    </tr>\n",
       "    <tr>\n",
       "      <th>1</th>\n",
       "      <td>666029285002620928</td>\n",
       "      <td>https://pbs.twimg.com/media/CT42GRgUYAA5iDo.jpg</td>\n",
       "      <td>1</td>\n",
       "      <td>redbone</td>\n",
       "      <td>0.506826</td>\n",
       "      <td>True</td>\n",
       "      <td>miniature_pinscher</td>\n",
       "      <td>0.074192</td>\n",
       "      <td>True</td>\n",
       "      <td>Rhodesian_ridgeback</td>\n",
       "      <td>0.072010</td>\n",
       "      <td>True</td>\n",
       "    </tr>\n",
       "    <tr>\n",
       "      <th>2</th>\n",
       "      <td>666033412701032449</td>\n",
       "      <td>https://pbs.twimg.com/media/CT4521TWwAEvMyu.jpg</td>\n",
       "      <td>1</td>\n",
       "      <td>German_shepherd</td>\n",
       "      <td>0.596461</td>\n",
       "      <td>True</td>\n",
       "      <td>malinois</td>\n",
       "      <td>0.138584</td>\n",
       "      <td>True</td>\n",
       "      <td>bloodhound</td>\n",
       "      <td>0.116197</td>\n",
       "      <td>True</td>\n",
       "    </tr>\n",
       "    <tr>\n",
       "      <th>3</th>\n",
       "      <td>666044226329800704</td>\n",
       "      <td>https://pbs.twimg.com/media/CT5Dr8HUEAA-lEu.jpg</td>\n",
       "      <td>1</td>\n",
       "      <td>Rhodesian_ridgeback</td>\n",
       "      <td>0.408143</td>\n",
       "      <td>True</td>\n",
       "      <td>redbone</td>\n",
       "      <td>0.360687</td>\n",
       "      <td>True</td>\n",
       "      <td>miniature_pinscher</td>\n",
       "      <td>0.222752</td>\n",
       "      <td>True</td>\n",
       "    </tr>\n",
       "    <tr>\n",
       "      <th>4</th>\n",
       "      <td>666049248165822465</td>\n",
       "      <td>https://pbs.twimg.com/media/CT5IQmsXIAAKY4A.jpg</td>\n",
       "      <td>1</td>\n",
       "      <td>miniature_pinscher</td>\n",
       "      <td>0.560311</td>\n",
       "      <td>True</td>\n",
       "      <td>Rottweiler</td>\n",
       "      <td>0.243682</td>\n",
       "      <td>True</td>\n",
       "      <td>Doberman</td>\n",
       "      <td>0.154629</td>\n",
       "      <td>True</td>\n",
       "    </tr>\n",
       "  </tbody>\n",
       "</table>\n",
       "</div>"
      ],
      "text/plain": [
       "             tweet_id                                          jpg_url  \\\n",
       "0  666020888022790149  https://pbs.twimg.com/media/CT4udn0WwAA0aMy.jpg   \n",
       "1  666029285002620928  https://pbs.twimg.com/media/CT42GRgUYAA5iDo.jpg   \n",
       "2  666033412701032449  https://pbs.twimg.com/media/CT4521TWwAEvMyu.jpg   \n",
       "3  666044226329800704  https://pbs.twimg.com/media/CT5Dr8HUEAA-lEu.jpg   \n",
       "4  666049248165822465  https://pbs.twimg.com/media/CT5IQmsXIAAKY4A.jpg   \n",
       "\n",
       "   img_num                      p1   p1_conf  p1_dog                  p2  \\\n",
       "0        1  Welsh_springer_spaniel  0.465074    True              collie   \n",
       "1        1                 redbone  0.506826    True  miniature_pinscher   \n",
       "2        1         German_shepherd  0.596461    True            malinois   \n",
       "3        1     Rhodesian_ridgeback  0.408143    True             redbone   \n",
       "4        1      miniature_pinscher  0.560311    True          Rottweiler   \n",
       "\n",
       "    p2_conf  p2_dog                   p3   p3_conf  p3_dog  \n",
       "0  0.156665    True    Shetland_sheepdog  0.061428    True  \n",
       "1  0.074192    True  Rhodesian_ridgeback  0.072010    True  \n",
       "2  0.138584    True           bloodhound  0.116197    True  \n",
       "3  0.360687    True   miniature_pinscher  0.222752    True  \n",
       "4  0.243682    True             Doberman  0.154629    True  "
      ]
     },
     "execution_count": 20,
     "metadata": {},
     "output_type": "execute_result"
    }
   ],
   "source": [
    "image_prediction.head()"
   ]
  },
  {
   "cell_type": "code",
   "execution_count": 21,
   "metadata": {},
   "outputs": [
    {
     "data": {
      "text/plain": [
       "golden_retriever             150\n",
       "Labrador_retriever           100\n",
       "Pembroke                      89\n",
       "Chihuahua                     83\n",
       "pug                           57\n",
       "chow                          44\n",
       "Samoyed                       43\n",
       "toy_poodle                    39\n",
       "Pomeranian                    38\n",
       "cocker_spaniel                30\n",
       "malamute                      30\n",
       "French_bulldog                26\n",
       "Chesapeake_Bay_retriever      23\n",
       "miniature_pinscher            23\n",
       "seat_belt                     22\n",
       "Siberian_husky                20\n",
       "Staffordshire_bullterrier     20\n",
       "German_shepherd               20\n",
       "Cardigan                      19\n",
       "web_site                      19\n",
       "Shetland_sheepdog             18\n",
       "teddy                         18\n",
       "beagle                        18\n",
       "Eskimo_dog                    18\n",
       "Maltese_dog                   18\n",
       "Rottweiler                    17\n",
       "Lakeland_terrier              17\n",
       "Shih-Tzu                      17\n",
       "kuvasz                        16\n",
       "Italian_greyhound             16\n",
       "                            ... \n",
       "flamingo                       1\n",
       "china_cabinet                  1\n",
       "cuirass                        1\n",
       "syringe                        1\n",
       "silky_terrier                  1\n",
       "bonnet                         1\n",
       "groenendael                    1\n",
       "teapot                         1\n",
       "school_bus                     1\n",
       "hotdog                         1\n",
       "water_buffalo                  1\n",
       "polecat                        1\n",
       "hay                            1\n",
       "bighorn                        1\n",
       "bookshop                       1\n",
       "coil                           1\n",
       "wooden_spoon                   1\n",
       "African_crocodile              1\n",
       "cheeseburger                   1\n",
       "African_hunting_dog            1\n",
       "beaver                         1\n",
       "slug                           1\n",
       "trombone                       1\n",
       "book_jacket                    1\n",
       "soccer_ball                    1\n",
       "ping-pong_ball                 1\n",
       "envelope                       1\n",
       "grille                         1\n",
       "pillow                         1\n",
       "banana                         1\n",
       "Name: p1, Length: 378, dtype: int64"
      ]
     },
     "execution_count": 21,
     "metadata": {},
     "output_type": "execute_result"
    }
   ],
   "source": [
    "image_prediction.p1.value_counts()"
   ]
  },
  {
   "cell_type": "code",
   "execution_count": 22,
   "metadata": {},
   "outputs": [
    {
     "data": {
      "text/plain": [
       "Labrador_retriever                104\n",
       "golden_retriever                   92\n",
       "Cardigan                           73\n",
       "Chihuahua                          44\n",
       "Pomeranian                         42\n",
       "Chesapeake_Bay_retriever           41\n",
       "French_bulldog                     41\n",
       "toy_poodle                         37\n",
       "cocker_spaniel                     34\n",
       "Siberian_husky                     33\n",
       "miniature_poodle                   33\n",
       "beagle                             28\n",
       "Pembroke                           27\n",
       "Eskimo_dog                         27\n",
       "collie                             27\n",
       "kuvasz                             26\n",
       "Italian_greyhound                  22\n",
       "American_Staffordshire_terrier     21\n",
       "Pekinese                           21\n",
       "toy_terrier                        20\n",
       "Samoyed                            20\n",
       "malinois                           20\n",
       "chow                               20\n",
       "miniature_pinscher                 20\n",
       "Norwegian_elkhound                 19\n",
       "Boston_bull                        19\n",
       "Staffordshire_bullterrier          18\n",
       "pug                                17\n",
       "Irish_terrier                      17\n",
       "Shih-Tzu                           16\n",
       "                                 ... \n",
       "dining_table                        1\n",
       "goose                               1\n",
       "polecat                             1\n",
       "cockroach                           1\n",
       "hummingbird                         1\n",
       "neck_brace                          1\n",
       "mailbox                             1\n",
       "cradle                              1\n",
       "tray                                1\n",
       "apron                               1\n",
       "leafhopper                          1\n",
       "paper_towel                         1\n",
       "umbrella                            1\n",
       "turnstile                           1\n",
       "home_theater                        1\n",
       "stove                               1\n",
       "hair_slide                          1\n",
       "tick                                1\n",
       "oxygen_mask                         1\n",
       "racket                              1\n",
       "Kerry_blue_terrier                  1\n",
       "maillot                             1\n",
       "quail                               1\n",
       "grey_whale                          1\n",
       "barbershop                          1\n",
       "printer                             1\n",
       "cornet                              1\n",
       "Gila_monster                        1\n",
       "Japanese_spaniel                    1\n",
       "purse                               1\n",
       "Name: p2, Length: 405, dtype: int64"
      ]
     },
     "execution_count": 22,
     "metadata": {},
     "output_type": "execute_result"
    }
   ],
   "source": [
    "image_prediction.p2.value_counts()"
   ]
  },
  {
   "cell_type": "code",
   "execution_count": 23,
   "metadata": {},
   "outputs": [
    {
     "data": {
      "text/plain": [
       "Labrador_retriever                79\n",
       "Chihuahua                         58\n",
       "golden_retriever                  48\n",
       "Eskimo_dog                        38\n",
       "kelpie                            35\n",
       "kuvasz                            34\n",
       "Staffordshire_bullterrier         32\n",
       "chow                              32\n",
       "beagle                            31\n",
       "cocker_spaniel                    31\n",
       "Pomeranian                        29\n",
       "toy_poodle                        29\n",
       "Pekinese                          29\n",
       "Pembroke                          27\n",
       "Chesapeake_Bay_retriever          27\n",
       "Great_Pyrenees                    27\n",
       "malamute                          26\n",
       "French_bulldog                    26\n",
       "American_Staffordshire_terrier    24\n",
       "Cardigan                          23\n",
       "pug                               23\n",
       "basenji                           21\n",
       "toy_terrier                       20\n",
       "bull_mastiff                      20\n",
       "Siberian_husky                    19\n",
       "Boston_bull                       17\n",
       "Shetland_sheepdog                 17\n",
       "boxer                             16\n",
       "doormat                           16\n",
       "Lakeland_terrier                  16\n",
       "                                  ..\n",
       "Indian_elephant                    1\n",
       "chain                              1\n",
       "soccer_ball                        1\n",
       "moped                              1\n",
       "theater_curtain                    1\n",
       "passenger_car                      1\n",
       "rifle                              1\n",
       "neck_brace                         1\n",
       "wok                                1\n",
       "bannister                          1\n",
       "rotisserie                         1\n",
       "screw                              1\n",
       "mongoose                           1\n",
       "great_grey_owl                     1\n",
       "Kerry_blue_terrier                 1\n",
       "drumstick                          1\n",
       "cup                                1\n",
       "park_bench                         1\n",
       "shovel                             1\n",
       "balance_beam                       1\n",
       "wing                               1\n",
       "beach_wagon                        1\n",
       "gorilla                            1\n",
       "traffic_light                      1\n",
       "desktop_computer                   1\n",
       "African_chameleon                  1\n",
       "cheetah                            1\n",
       "swimming_trunks                    1\n",
       "tripod                             1\n",
       "acorn                              1\n",
       "Name: p3, Length: 408, dtype: int64"
      ]
     },
     "execution_count": 23,
     "metadata": {},
     "output_type": "execute_result"
    }
   ],
   "source": [
    "image_prediction.p3.value_counts()"
   ]
  },
  {
   "cell_type": "markdown",
   "metadata": {},
   "source": [
    "Check those first predictions that are not dogs."
   ]
  },
  {
   "cell_type": "code",
   "execution_count": 24,
   "metadata": {},
   "outputs": [
    {
     "data": {
      "text/html": [
       "<div>\n",
       "<style>\n",
       "    .dataframe thead tr:only-child th {\n",
       "        text-align: right;\n",
       "    }\n",
       "\n",
       "    .dataframe thead th {\n",
       "        text-align: left;\n",
       "    }\n",
       "\n",
       "    .dataframe tbody tr th {\n",
       "        vertical-align: top;\n",
       "    }\n",
       "</style>\n",
       "<table border=\"1\" class=\"dataframe\">\n",
       "  <thead>\n",
       "    <tr style=\"text-align: right;\">\n",
       "      <th></th>\n",
       "      <th>tweet_id</th>\n",
       "      <th>jpg_url</th>\n",
       "      <th>img_num</th>\n",
       "      <th>p1</th>\n",
       "      <th>p1_conf</th>\n",
       "      <th>p1_dog</th>\n",
       "      <th>p2</th>\n",
       "      <th>p2_conf</th>\n",
       "      <th>p2_dog</th>\n",
       "      <th>p3</th>\n",
       "      <th>p3_conf</th>\n",
       "      <th>p3_dog</th>\n",
       "    </tr>\n",
       "  </thead>\n",
       "  <tbody>\n",
       "    <tr>\n",
       "      <th>6</th>\n",
       "      <td>666051853826850816</td>\n",
       "      <td>https://pbs.twimg.com/media/CT5KoJ1WoAAJash.jpg</td>\n",
       "      <td>1</td>\n",
       "      <td>box_turtle</td>\n",
       "      <td>0.933012</td>\n",
       "      <td>False</td>\n",
       "      <td>mud_turtle</td>\n",
       "      <td>4.588540e-02</td>\n",
       "      <td>False</td>\n",
       "      <td>terrapin</td>\n",
       "      <td>1.788530e-02</td>\n",
       "      <td>False</td>\n",
       "    </tr>\n",
       "    <tr>\n",
       "      <th>8</th>\n",
       "      <td>666057090499244032</td>\n",
       "      <td>https://pbs.twimg.com/media/CT5PY90WoAAQGLo.jpg</td>\n",
       "      <td>1</td>\n",
       "      <td>shopping_cart</td>\n",
       "      <td>0.962465</td>\n",
       "      <td>False</td>\n",
       "      <td>shopping_basket</td>\n",
       "      <td>1.459380e-02</td>\n",
       "      <td>False</td>\n",
       "      <td>golden_retriever</td>\n",
       "      <td>7.958960e-03</td>\n",
       "      <td>True</td>\n",
       "    </tr>\n",
       "    <tr>\n",
       "      <th>17</th>\n",
       "      <td>666104133288665088</td>\n",
       "      <td>https://pbs.twimg.com/media/CT56LSZWoAAlJj2.jpg</td>\n",
       "      <td>1</td>\n",
       "      <td>hen</td>\n",
       "      <td>0.965932</td>\n",
       "      <td>False</td>\n",
       "      <td>cock</td>\n",
       "      <td>3.391940e-02</td>\n",
       "      <td>False</td>\n",
       "      <td>partridge</td>\n",
       "      <td>5.206580e-05</td>\n",
       "      <td>False</td>\n",
       "    </tr>\n",
       "    <tr>\n",
       "      <th>18</th>\n",
       "      <td>666268910803644416</td>\n",
       "      <td>https://pbs.twimg.com/media/CT8QCd1WEAADXws.jpg</td>\n",
       "      <td>1</td>\n",
       "      <td>desktop_computer</td>\n",
       "      <td>0.086502</td>\n",
       "      <td>False</td>\n",
       "      <td>desk</td>\n",
       "      <td>8.554740e-02</td>\n",
       "      <td>False</td>\n",
       "      <td>bookcase</td>\n",
       "      <td>7.947970e-02</td>\n",
       "      <td>False</td>\n",
       "    </tr>\n",
       "    <tr>\n",
       "      <th>21</th>\n",
       "      <td>666293911632134144</td>\n",
       "      <td>https://pbs.twimg.com/media/CT8mx7KW4AEQu8N.jpg</td>\n",
       "      <td>1</td>\n",
       "      <td>three-toed_sloth</td>\n",
       "      <td>0.914671</td>\n",
       "      <td>False</td>\n",
       "      <td>otter</td>\n",
       "      <td>1.525000e-02</td>\n",
       "      <td>False</td>\n",
       "      <td>great_grey_owl</td>\n",
       "      <td>1.320720e-02</td>\n",
       "      <td>False</td>\n",
       "    </tr>\n",
       "    <tr>\n",
       "      <th>22</th>\n",
       "      <td>666337882303524864</td>\n",
       "      <td>https://pbs.twimg.com/media/CT9OwFIWEAMuRje.jpg</td>\n",
       "      <td>1</td>\n",
       "      <td>ox</td>\n",
       "      <td>0.416669</td>\n",
       "      <td>False</td>\n",
       "      <td>Newfoundland</td>\n",
       "      <td>2.784070e-01</td>\n",
       "      <td>True</td>\n",
       "      <td>groenendael</td>\n",
       "      <td>1.026430e-01</td>\n",
       "      <td>True</td>\n",
       "    </tr>\n",
       "    <tr>\n",
       "      <th>25</th>\n",
       "      <td>666362758909284353</td>\n",
       "      <td>https://pbs.twimg.com/media/CT9lXGsUcAAyUFt.jpg</td>\n",
       "      <td>1</td>\n",
       "      <td>guinea_pig</td>\n",
       "      <td>0.996496</td>\n",
       "      <td>False</td>\n",
       "      <td>skunk</td>\n",
       "      <td>2.402450e-03</td>\n",
       "      <td>False</td>\n",
       "      <td>hamster</td>\n",
       "      <td>4.608630e-04</td>\n",
       "      <td>False</td>\n",
       "    </tr>\n",
       "    <tr>\n",
       "      <th>29</th>\n",
       "      <td>666411507551481857</td>\n",
       "      <td>https://pbs.twimg.com/media/CT-RugiWIAELEaq.jpg</td>\n",
       "      <td>1</td>\n",
       "      <td>coho</td>\n",
       "      <td>0.404640</td>\n",
       "      <td>False</td>\n",
       "      <td>barracouta</td>\n",
       "      <td>2.714850e-01</td>\n",
       "      <td>False</td>\n",
       "      <td>gar</td>\n",
       "      <td>1.899450e-01</td>\n",
       "      <td>False</td>\n",
       "    </tr>\n",
       "    <tr>\n",
       "      <th>33</th>\n",
       "      <td>666430724426358785</td>\n",
       "      <td>https://pbs.twimg.com/media/CT-jNYqW4AAPi2M.jpg</td>\n",
       "      <td>1</td>\n",
       "      <td>llama</td>\n",
       "      <td>0.505184</td>\n",
       "      <td>False</td>\n",
       "      <td>Irish_terrier</td>\n",
       "      <td>1.041090e-01</td>\n",
       "      <td>True</td>\n",
       "      <td>dingo</td>\n",
       "      <td>6.207120e-02</td>\n",
       "      <td>False</td>\n",
       "    </tr>\n",
       "    <tr>\n",
       "      <th>43</th>\n",
       "      <td>666776908487630848</td>\n",
       "      <td>https://pbs.twimg.com/media/CUDeDoWUYAAD-EM.jpg</td>\n",
       "      <td>1</td>\n",
       "      <td>seat_belt</td>\n",
       "      <td>0.375057</td>\n",
       "      <td>False</td>\n",
       "      <td>miniature_pinscher</td>\n",
       "      <td>1.671750e-01</td>\n",
       "      <td>True</td>\n",
       "      <td>Chihuahua</td>\n",
       "      <td>8.695060e-02</td>\n",
       "      <td>True</td>\n",
       "    </tr>\n",
       "    <tr>\n",
       "      <th>45</th>\n",
       "      <td>666786068205871104</td>\n",
       "      <td>https://pbs.twimg.com/media/CUDmZIkWcAAIPPe.jpg</td>\n",
       "      <td>1</td>\n",
       "      <td>snail</td>\n",
       "      <td>0.999888</td>\n",
       "      <td>False</td>\n",
       "      <td>slug</td>\n",
       "      <td>5.514170e-05</td>\n",
       "      <td>False</td>\n",
       "      <td>acorn</td>\n",
       "      <td>2.625800e-05</td>\n",
       "      <td>False</td>\n",
       "    </tr>\n",
       "    <tr>\n",
       "      <th>50</th>\n",
       "      <td>666837028449972224</td>\n",
       "      <td>https://pbs.twimg.com/media/CUEUva1WsAA2jPb.jpg</td>\n",
       "      <td>1</td>\n",
       "      <td>triceratops</td>\n",
       "      <td>0.442113</td>\n",
       "      <td>False</td>\n",
       "      <td>armadillo</td>\n",
       "      <td>1.140710e-01</td>\n",
       "      <td>False</td>\n",
       "      <td>common_iguana</td>\n",
       "      <td>4.325530e-02</td>\n",
       "      <td>False</td>\n",
       "    </tr>\n",
       "    <tr>\n",
       "      <th>51</th>\n",
       "      <td>666983947667116034</td>\n",
       "      <td>https://pbs.twimg.com/media/CUGaXDhW4AY9JUH.jpg</td>\n",
       "      <td>1</td>\n",
       "      <td>swab</td>\n",
       "      <td>0.589446</td>\n",
       "      <td>False</td>\n",
       "      <td>chain_saw</td>\n",
       "      <td>1.901420e-01</td>\n",
       "      <td>False</td>\n",
       "      <td>wig</td>\n",
       "      <td>3.450970e-02</td>\n",
       "      <td>False</td>\n",
       "    </tr>\n",
       "    <tr>\n",
       "      <th>52</th>\n",
       "      <td>666996132027977728</td>\n",
       "      <td>https://pbs.twimg.com/media/CUGlb6iUwAITEbW.jpg</td>\n",
       "      <td>1</td>\n",
       "      <td>hay</td>\n",
       "      <td>0.507637</td>\n",
       "      <td>False</td>\n",
       "      <td>Rottweiler</td>\n",
       "      <td>6.248990e-02</td>\n",
       "      <td>True</td>\n",
       "      <td>water_buffalo</td>\n",
       "      <td>4.842470e-02</td>\n",
       "      <td>False</td>\n",
       "    </tr>\n",
       "    <tr>\n",
       "      <th>53</th>\n",
       "      <td>667012601033924608</td>\n",
       "      <td>https://pbs.twimg.com/media/CUG0bC0U8AAw2su.jpg</td>\n",
       "      <td>1</td>\n",
       "      <td>hyena</td>\n",
       "      <td>0.987230</td>\n",
       "      <td>False</td>\n",
       "      <td>African_hunting_dog</td>\n",
       "      <td>1.260080e-02</td>\n",
       "      <td>False</td>\n",
       "      <td>coyote</td>\n",
       "      <td>5.735010e-05</td>\n",
       "      <td>False</td>\n",
       "    </tr>\n",
       "    <tr>\n",
       "      <th>56</th>\n",
       "      <td>667065535570550784</td>\n",
       "      <td>https://pbs.twimg.com/media/CUHkkJpXIAA2w3n.jpg</td>\n",
       "      <td>1</td>\n",
       "      <td>jigsaw_puzzle</td>\n",
       "      <td>0.560001</td>\n",
       "      <td>False</td>\n",
       "      <td>doormat</td>\n",
       "      <td>1.032590e-01</td>\n",
       "      <td>False</td>\n",
       "      <td>space_heater</td>\n",
       "      <td>4.256800e-02</td>\n",
       "      <td>False</td>\n",
       "    </tr>\n",
       "    <tr>\n",
       "      <th>69</th>\n",
       "      <td>667188689915760640</td>\n",
       "      <td>https://pbs.twimg.com/media/CUJUk2iWUAAVtOv.jpg</td>\n",
       "      <td>1</td>\n",
       "      <td>vacuum</td>\n",
       "      <td>0.335830</td>\n",
       "      <td>False</td>\n",
       "      <td>swab</td>\n",
       "      <td>2.652780e-01</td>\n",
       "      <td>False</td>\n",
       "      <td>toilet_tissue</td>\n",
       "      <td>1.407030e-01</td>\n",
       "      <td>False</td>\n",
       "    </tr>\n",
       "    <tr>\n",
       "      <th>73</th>\n",
       "      <td>667369227918143488</td>\n",
       "      <td>https://pbs.twimg.com/media/CUL4xR9UkAEdlJ6.jpg</td>\n",
       "      <td>1</td>\n",
       "      <td>teddy</td>\n",
       "      <td>0.709545</td>\n",
       "      <td>False</td>\n",
       "      <td>bath_towel</td>\n",
       "      <td>1.272850e-01</td>\n",
       "      <td>False</td>\n",
       "      <td>Christmas_stocking</td>\n",
       "      <td>2.856750e-02</td>\n",
       "      <td>False</td>\n",
       "    </tr>\n",
       "    <tr>\n",
       "      <th>77</th>\n",
       "      <td>667437278097252352</td>\n",
       "      <td>https://pbs.twimg.com/media/CUM2qWaWoAUZ06L.jpg</td>\n",
       "      <td>1</td>\n",
       "      <td>porcupine</td>\n",
       "      <td>0.989154</td>\n",
       "      <td>False</td>\n",
       "      <td>bath_towel</td>\n",
       "      <td>6.300490e-03</td>\n",
       "      <td>False</td>\n",
       "      <td>badger</td>\n",
       "      <td>9.663400e-04</td>\n",
       "      <td>False</td>\n",
       "    </tr>\n",
       "    <tr>\n",
       "      <th>78</th>\n",
       "      <td>667443425659232256</td>\n",
       "      <td>https://pbs.twimg.com/media/CUM8QZwW4AAVsBl.jpg</td>\n",
       "      <td>1</td>\n",
       "      <td>goose</td>\n",
       "      <td>0.980815</td>\n",
       "      <td>False</td>\n",
       "      <td>drake</td>\n",
       "      <td>6.917770e-03</td>\n",
       "      <td>False</td>\n",
       "      <td>hen</td>\n",
       "      <td>5.255170e-03</td>\n",
       "      <td>False</td>\n",
       "    </tr>\n",
       "    <tr>\n",
       "      <th>87</th>\n",
       "      <td>667524857454854144</td>\n",
       "      <td>https://pbs.twimg.com/media/CUOGUfJW4AA_eni.jpg</td>\n",
       "      <td>1</td>\n",
       "      <td>hare</td>\n",
       "      <td>0.447893</td>\n",
       "      <td>False</td>\n",
       "      <td>dhole</td>\n",
       "      <td>9.243530e-02</td>\n",
       "      <td>False</td>\n",
       "      <td>Chesapeake_Bay_retriever</td>\n",
       "      <td>8.812240e-02</td>\n",
       "      <td>True</td>\n",
       "    </tr>\n",
       "    <tr>\n",
       "      <th>93</th>\n",
       "      <td>667549055577362432</td>\n",
       "      <td>https://pbs.twimg.com/media/CUOcVCwWsAERUKY.jpg</td>\n",
       "      <td>1</td>\n",
       "      <td>electric_fan</td>\n",
       "      <td>0.984377</td>\n",
       "      <td>False</td>\n",
       "      <td>spotlight</td>\n",
       "      <td>7.736710e-03</td>\n",
       "      <td>False</td>\n",
       "      <td>lampshade</td>\n",
       "      <td>1.901230e-03</td>\n",
       "      <td>False</td>\n",
       "    </tr>\n",
       "    <tr>\n",
       "      <th>94</th>\n",
       "      <td>667550882905632768</td>\n",
       "      <td>https://pbs.twimg.com/media/CUObvUJVEAAnYPF.jpg</td>\n",
       "      <td>1</td>\n",
       "      <td>web_site</td>\n",
       "      <td>0.998258</td>\n",
       "      <td>False</td>\n",
       "      <td>dishwasher</td>\n",
       "      <td>2.010840e-04</td>\n",
       "      <td>False</td>\n",
       "      <td>oscilloscope</td>\n",
       "      <td>1.417360e-04</td>\n",
       "      <td>False</td>\n",
       "    </tr>\n",
       "    <tr>\n",
       "      <th>95</th>\n",
       "      <td>667550904950915073</td>\n",
       "      <td>https://pbs.twimg.com/media/CUOb_gUUkAACXdS.jpg</td>\n",
       "      <td>1</td>\n",
       "      <td>web_site</td>\n",
       "      <td>0.999335</td>\n",
       "      <td>False</td>\n",
       "      <td>vizsla</td>\n",
       "      <td>8.106320e-05</td>\n",
       "      <td>True</td>\n",
       "      <td>collie</td>\n",
       "      <td>6.915900e-05</td>\n",
       "      <td>True</td>\n",
       "    </tr>\n",
       "    <tr>\n",
       "      <th>96</th>\n",
       "      <td>667724302356258817</td>\n",
       "      <td>https://pbs.twimg.com/media/CUQ7tv3W4AA3KlI.jpg</td>\n",
       "      <td>1</td>\n",
       "      <td>ibex</td>\n",
       "      <td>0.619098</td>\n",
       "      <td>False</td>\n",
       "      <td>bighorn</td>\n",
       "      <td>1.251190e-01</td>\n",
       "      <td>False</td>\n",
       "      <td>ram</td>\n",
       "      <td>7.467320e-02</td>\n",
       "      <td>False</td>\n",
       "    </tr>\n",
       "    <tr>\n",
       "      <th>98</th>\n",
       "      <td>667766675769573376</td>\n",
       "      <td>https://pbs.twimg.com/media/CURiQMnUAAAPT2M.jpg</td>\n",
       "      <td>1</td>\n",
       "      <td>fire_engine</td>\n",
       "      <td>0.883493</td>\n",
       "      <td>False</td>\n",
       "      <td>tow_truck</td>\n",
       "      <td>7.473390e-02</td>\n",
       "      <td>False</td>\n",
       "      <td>jeep</td>\n",
       "      <td>1.277260e-02</td>\n",
       "      <td>False</td>\n",
       "    </tr>\n",
       "    <tr>\n",
       "      <th>100</th>\n",
       "      <td>667782464991965184</td>\n",
       "      <td>https://pbs.twimg.com/media/CURwm3cUkAARcO6.jpg</td>\n",
       "      <td>1</td>\n",
       "      <td>lorikeet</td>\n",
       "      <td>0.466149</td>\n",
       "      <td>False</td>\n",
       "      <td>hummingbird</td>\n",
       "      <td>8.301100e-02</td>\n",
       "      <td>False</td>\n",
       "      <td>African_grey</td>\n",
       "      <td>5.424740e-02</td>\n",
       "      <td>False</td>\n",
       "    </tr>\n",
       "    <tr>\n",
       "      <th>103</th>\n",
       "      <td>667806454573760512</td>\n",
       "      <td>https://pbs.twimg.com/media/CUSGbXeVAAAgztZ.jpg</td>\n",
       "      <td>1</td>\n",
       "      <td>toyshop</td>\n",
       "      <td>0.253089</td>\n",
       "      <td>False</td>\n",
       "      <td>Chihuahua</td>\n",
       "      <td>1.871550e-01</td>\n",
       "      <td>True</td>\n",
       "      <td>Brabancon_griffon</td>\n",
       "      <td>1.127990e-01</td>\n",
       "      <td>True</td>\n",
       "    </tr>\n",
       "    <tr>\n",
       "      <th>106</th>\n",
       "      <td>667866724293877760</td>\n",
       "      <td>https://pbs.twimg.com/media/CUS9PlUWwAANeAD.jpg</td>\n",
       "      <td>1</td>\n",
       "      <td>jigsaw_puzzle</td>\n",
       "      <td>1.000000</td>\n",
       "      <td>False</td>\n",
       "      <td>prayer_rug</td>\n",
       "      <td>1.011300e-08</td>\n",
       "      <td>False</td>\n",
       "      <td>doormat</td>\n",
       "      <td>1.740170e-10</td>\n",
       "      <td>False</td>\n",
       "    </tr>\n",
       "    <tr>\n",
       "      <th>107</th>\n",
       "      <td>667873844930215936</td>\n",
       "      <td>https://pbs.twimg.com/media/CUTDtyGXIAARxus.jpg</td>\n",
       "      <td>1</td>\n",
       "      <td>common_iguana</td>\n",
       "      <td>0.999647</td>\n",
       "      <td>False</td>\n",
       "      <td>frilled_lizard</td>\n",
       "      <td>1.811500e-04</td>\n",
       "      <td>False</td>\n",
       "      <td>African_chameleon</td>\n",
       "      <td>1.283570e-04</td>\n",
       "      <td>False</td>\n",
       "    </tr>\n",
       "    <tr>\n",
       "      <th>...</th>\n",
       "      <td>...</td>\n",
       "      <td>...</td>\n",
       "      <td>...</td>\n",
       "      <td>...</td>\n",
       "      <td>...</td>\n",
       "      <td>...</td>\n",
       "      <td>...</td>\n",
       "      <td>...</td>\n",
       "      <td>...</td>\n",
       "      <td>...</td>\n",
       "      <td>...</td>\n",
       "      <td>...</td>\n",
       "    </tr>\n",
       "    <tr>\n",
       "      <th>1900</th>\n",
       "      <td>851464819735769094</td>\n",
       "      <td>https://pbs.twimg.com/media/C9ECujZXsAAPCSM.jpg</td>\n",
       "      <td>2</td>\n",
       "      <td>web_site</td>\n",
       "      <td>0.919649</td>\n",
       "      <td>False</td>\n",
       "      <td>menu</td>\n",
       "      <td>2.630610e-02</td>\n",
       "      <td>False</td>\n",
       "      <td>crossword_puzzle</td>\n",
       "      <td>3.481510e-03</td>\n",
       "      <td>False</td>\n",
       "    </tr>\n",
       "    <tr>\n",
       "      <th>1902</th>\n",
       "      <td>851861385021730816</td>\n",
       "      <td>https://pbs.twimg.com/media/C8W6sY_W0AEmttW.jpg</td>\n",
       "      <td>1</td>\n",
       "      <td>pencil_box</td>\n",
       "      <td>0.662183</td>\n",
       "      <td>False</td>\n",
       "      <td>purse</td>\n",
       "      <td>6.650550e-02</td>\n",
       "      <td>False</td>\n",
       "      <td>pillow</td>\n",
       "      <td>4.472530e-02</td>\n",
       "      <td>False</td>\n",
       "    </tr>\n",
       "    <tr>\n",
       "      <th>1904</th>\n",
       "      <td>852189679701164033</td>\n",
       "      <td>https://pbs.twimg.com/media/C9OV99SXsAEmj1U.jpg</td>\n",
       "      <td>1</td>\n",
       "      <td>barrow</td>\n",
       "      <td>0.423150</td>\n",
       "      <td>False</td>\n",
       "      <td>Bernese_mountain_dog</td>\n",
       "      <td>4.153740e-01</td>\n",
       "      <td>True</td>\n",
       "      <td>EntleBucher</td>\n",
       "      <td>6.734540e-02</td>\n",
       "      <td>True</td>\n",
       "    </tr>\n",
       "    <tr>\n",
       "      <th>1905</th>\n",
       "      <td>852226086759018497</td>\n",
       "      <td>https://pbs.twimg.com/ext_tw_video_thumb/85222...</td>\n",
       "      <td>1</td>\n",
       "      <td>prison</td>\n",
       "      <td>0.352793</td>\n",
       "      <td>False</td>\n",
       "      <td>dishwasher</td>\n",
       "      <td>1.107230e-01</td>\n",
       "      <td>False</td>\n",
       "      <td>file</td>\n",
       "      <td>9.411200e-02</td>\n",
       "      <td>False</td>\n",
       "    </tr>\n",
       "    <tr>\n",
       "      <th>1906</th>\n",
       "      <td>852311364735569921</td>\n",
       "      <td>https://pbs.twimg.com/media/C9QEqZ7XYAIR7fS.jpg</td>\n",
       "      <td>1</td>\n",
       "      <td>barbell</td>\n",
       "      <td>0.971581</td>\n",
       "      <td>False</td>\n",
       "      <td>dumbbell</td>\n",
       "      <td>2.841790e-02</td>\n",
       "      <td>False</td>\n",
       "      <td>go-kart</td>\n",
       "      <td>5.595040e-07</td>\n",
       "      <td>False</td>\n",
       "    </tr>\n",
       "    <tr>\n",
       "      <th>1910</th>\n",
       "      <td>853299958564483072</td>\n",
       "      <td>https://pbs.twimg.com/media/C9eHyF7XgAAOxPM.jpg</td>\n",
       "      <td>1</td>\n",
       "      <td>grille</td>\n",
       "      <td>0.652280</td>\n",
       "      <td>False</td>\n",
       "      <td>beach_wagon</td>\n",
       "      <td>1.128460e-01</td>\n",
       "      <td>False</td>\n",
       "      <td>convertible</td>\n",
       "      <td>8.625230e-02</td>\n",
       "      <td>False</td>\n",
       "    </tr>\n",
       "    <tr>\n",
       "      <th>1931</th>\n",
       "      <td>859074603037188101</td>\n",
       "      <td>https://pbs.twimg.com/media/C-wLyufW0AA546I.jpg</td>\n",
       "      <td>1</td>\n",
       "      <td>revolver</td>\n",
       "      <td>0.190292</td>\n",
       "      <td>False</td>\n",
       "      <td>projectile</td>\n",
       "      <td>1.490640e-01</td>\n",
       "      <td>False</td>\n",
       "      <td>fountain</td>\n",
       "      <td>6.604660e-02</td>\n",
       "      <td>False</td>\n",
       "    </tr>\n",
       "    <tr>\n",
       "      <th>1932</th>\n",
       "      <td>859196978902773760</td>\n",
       "      <td>https://pbs.twimg.com/ext_tw_video_thumb/85919...</td>\n",
       "      <td>1</td>\n",
       "      <td>Angora</td>\n",
       "      <td>0.224218</td>\n",
       "      <td>False</td>\n",
       "      <td>malamute</td>\n",
       "      <td>2.161630e-01</td>\n",
       "      <td>True</td>\n",
       "      <td>Persian_cat</td>\n",
       "      <td>1.283830e-01</td>\n",
       "      <td>False</td>\n",
       "    </tr>\n",
       "    <tr>\n",
       "      <th>1936</th>\n",
       "      <td>860184849394610176</td>\n",
       "      <td>https://pbs.twimg.com/media/C-_9jWWUwAAnwkd.jpg</td>\n",
       "      <td>1</td>\n",
       "      <td>chimpanzee</td>\n",
       "      <td>0.267612</td>\n",
       "      <td>False</td>\n",
       "      <td>gorilla</td>\n",
       "      <td>1.042930e-01</td>\n",
       "      <td>False</td>\n",
       "      <td>orangutan</td>\n",
       "      <td>5.990750e-02</td>\n",
       "      <td>False</td>\n",
       "    </tr>\n",
       "    <tr>\n",
       "      <th>1937</th>\n",
       "      <td>860276583193509888</td>\n",
       "      <td>https://pbs.twimg.com/media/C_BQ_NlVwAAgYGD.jpg</td>\n",
       "      <td>1</td>\n",
       "      <td>lakeside</td>\n",
       "      <td>0.312299</td>\n",
       "      <td>False</td>\n",
       "      <td>dock</td>\n",
       "      <td>1.598420e-01</td>\n",
       "      <td>False</td>\n",
       "      <td>canoe</td>\n",
       "      <td>7.079450e-02</td>\n",
       "      <td>False</td>\n",
       "    </tr>\n",
       "    <tr>\n",
       "      <th>1940</th>\n",
       "      <td>860924035999428608</td>\n",
       "      <td>https://pbs.twimg.com/media/C_KVJjDXsAEUCWn.jpg</td>\n",
       "      <td>2</td>\n",
       "      <td>envelope</td>\n",
       "      <td>0.933016</td>\n",
       "      <td>False</td>\n",
       "      <td>oscilloscope</td>\n",
       "      <td>1.259140e-02</td>\n",
       "      <td>False</td>\n",
       "      <td>paper_towel</td>\n",
       "      <td>1.117850e-02</td>\n",
       "      <td>False</td>\n",
       "    </tr>\n",
       "    <tr>\n",
       "      <th>1942</th>\n",
       "      <td>861288531465048066</td>\n",
       "      <td>https://pbs.twimg.com/ext_tw_video_thumb/86128...</td>\n",
       "      <td>1</td>\n",
       "      <td>syringe</td>\n",
       "      <td>0.144712</td>\n",
       "      <td>False</td>\n",
       "      <td>oxygen_mask</td>\n",
       "      <td>1.066840e-01</td>\n",
       "      <td>False</td>\n",
       "      <td>Bouvier_des_Flandres</td>\n",
       "      <td>8.261020e-02</td>\n",
       "      <td>True</td>\n",
       "    </tr>\n",
       "    <tr>\n",
       "      <th>1944</th>\n",
       "      <td>861769973181624320</td>\n",
       "      <td>https://pbs.twimg.com/media/CzG425nWgAAnP7P.jpg</td>\n",
       "      <td>2</td>\n",
       "      <td>Arabian_camel</td>\n",
       "      <td>0.366248</td>\n",
       "      <td>False</td>\n",
       "      <td>house_finch</td>\n",
       "      <td>2.098520e-01</td>\n",
       "      <td>False</td>\n",
       "      <td>cocker_spaniel</td>\n",
       "      <td>4.640320e-02</td>\n",
       "      <td>True</td>\n",
       "    </tr>\n",
       "    <tr>\n",
       "      <th>1946</th>\n",
       "      <td>862457590147678208</td>\n",
       "      <td>https://pbs.twimg.com/media/C_gQmaTUMAAPYSS.jpg</td>\n",
       "      <td>1</td>\n",
       "      <td>home_theater</td>\n",
       "      <td>0.496348</td>\n",
       "      <td>False</td>\n",
       "      <td>studio_couch</td>\n",
       "      <td>1.672560e-01</td>\n",
       "      <td>False</td>\n",
       "      <td>barber_chair</td>\n",
       "      <td>5.262500e-02</td>\n",
       "      <td>False</td>\n",
       "    </tr>\n",
       "    <tr>\n",
       "      <th>1953</th>\n",
       "      <td>863907417377173506</td>\n",
       "      <td>https://pbs.twimg.com/media/C_03NPeUQAAgrMl.jpg</td>\n",
       "      <td>1</td>\n",
       "      <td>marmot</td>\n",
       "      <td>0.358828</td>\n",
       "      <td>False</td>\n",
       "      <td>meerkat</td>\n",
       "      <td>1.747030e-01</td>\n",
       "      <td>False</td>\n",
       "      <td>weasel</td>\n",
       "      <td>1.234850e-01</td>\n",
       "      <td>False</td>\n",
       "    </tr>\n",
       "    <tr>\n",
       "      <th>1956</th>\n",
       "      <td>864873206498414592</td>\n",
       "      <td>https://pbs.twimg.com/media/DAClmHkXcAA1kSv.jpg</td>\n",
       "      <td>2</td>\n",
       "      <td>pole</td>\n",
       "      <td>0.478616</td>\n",
       "      <td>False</td>\n",
       "      <td>lakeside</td>\n",
       "      <td>1.141820e-01</td>\n",
       "      <td>False</td>\n",
       "      <td>wreck</td>\n",
       "      <td>5.592650e-02</td>\n",
       "      <td>False</td>\n",
       "    </tr>\n",
       "    <tr>\n",
       "      <th>1970</th>\n",
       "      <td>868880397819494401</td>\n",
       "      <td>https://pbs.twimg.com/media/DA7iHL5U0AA1OQo.jpg</td>\n",
       "      <td>1</td>\n",
       "      <td>laptop</td>\n",
       "      <td>0.153718</td>\n",
       "      <td>False</td>\n",
       "      <td>French_bulldog</td>\n",
       "      <td>9.998390e-02</td>\n",
       "      <td>True</td>\n",
       "      <td>printer</td>\n",
       "      <td>7.712990e-02</td>\n",
       "      <td>False</td>\n",
       "    </tr>\n",
       "    <tr>\n",
       "      <th>1975</th>\n",
       "      <td>870063196459192321</td>\n",
       "      <td>https://pbs.twimg.com/media/DBMV3NnXUAAm0Pp.jpg</td>\n",
       "      <td>1</td>\n",
       "      <td>comic_book</td>\n",
       "      <td>0.534409</td>\n",
       "      <td>False</td>\n",
       "      <td>envelope</td>\n",
       "      <td>2.807220e-01</td>\n",
       "      <td>False</td>\n",
       "      <td>book_jacket</td>\n",
       "      <td>4.378550e-02</td>\n",
       "      <td>False</td>\n",
       "    </tr>\n",
       "    <tr>\n",
       "      <th>1979</th>\n",
       "      <td>870804317367881728</td>\n",
       "      <td>https://pbs.twimg.com/media/DBW35ZsVoAEWZUU.jpg</td>\n",
       "      <td>1</td>\n",
       "      <td>home_theater</td>\n",
       "      <td>0.168290</td>\n",
       "      <td>False</td>\n",
       "      <td>sandbar</td>\n",
       "      <td>9.804040e-02</td>\n",
       "      <td>False</td>\n",
       "      <td>television</td>\n",
       "      <td>7.972940e-02</td>\n",
       "      <td>False</td>\n",
       "    </tr>\n",
       "    <tr>\n",
       "      <th>1984</th>\n",
       "      <td>872122724285648897</td>\n",
       "      <td>https://pbs.twimg.com/media/DBpm-5UXcAUeCru.jpg</td>\n",
       "      <td>1</td>\n",
       "      <td>basketball</td>\n",
       "      <td>0.808396</td>\n",
       "      <td>False</td>\n",
       "      <td>pug</td>\n",
       "      <td>6.673630e-02</td>\n",
       "      <td>True</td>\n",
       "      <td>dalmatian</td>\n",
       "      <td>5.456980e-02</td>\n",
       "      <td>True</td>\n",
       "    </tr>\n",
       "    <tr>\n",
       "      <th>1992</th>\n",
       "      <td>873697596434513921</td>\n",
       "      <td>https://pbs.twimg.com/media/DA7iHL5U0AA1OQo.jpg</td>\n",
       "      <td>1</td>\n",
       "      <td>laptop</td>\n",
       "      <td>0.153718</td>\n",
       "      <td>False</td>\n",
       "      <td>French_bulldog</td>\n",
       "      <td>9.998390e-02</td>\n",
       "      <td>True</td>\n",
       "      <td>printer</td>\n",
       "      <td>7.712990e-02</td>\n",
       "      <td>False</td>\n",
       "    </tr>\n",
       "    <tr>\n",
       "      <th>2012</th>\n",
       "      <td>879050749262655488</td>\n",
       "      <td>https://pbs.twimg.com/media/DDMD_phXoAQ1qf0.jpg</td>\n",
       "      <td>1</td>\n",
       "      <td>tabby</td>\n",
       "      <td>0.311861</td>\n",
       "      <td>False</td>\n",
       "      <td>window_screen</td>\n",
       "      <td>1.691230e-01</td>\n",
       "      <td>False</td>\n",
       "      <td>Egyptian_cat</td>\n",
       "      <td>1.329320e-01</td>\n",
       "      <td>False</td>\n",
       "    </tr>\n",
       "    <tr>\n",
       "      <th>2013</th>\n",
       "      <td>879376492567855104</td>\n",
       "      <td>https://pbs.twimg.com/media/DDQsQGFV0AAw6u9.jpg</td>\n",
       "      <td>1</td>\n",
       "      <td>tricycle</td>\n",
       "      <td>0.663601</td>\n",
       "      <td>False</td>\n",
       "      <td>Labrador_retriever</td>\n",
       "      <td>3.349610e-02</td>\n",
       "      <td>True</td>\n",
       "      <td>Pembroke</td>\n",
       "      <td>1.882660e-02</td>\n",
       "      <td>True</td>\n",
       "    </tr>\n",
       "    <tr>\n",
       "      <th>2021</th>\n",
       "      <td>880935762899988482</td>\n",
       "      <td>https://pbs.twimg.com/media/DDm2Z5aXUAEDS2u.jpg</td>\n",
       "      <td>1</td>\n",
       "      <td>street_sign</td>\n",
       "      <td>0.251801</td>\n",
       "      <td>False</td>\n",
       "      <td>umbrella</td>\n",
       "      <td>1.151230e-01</td>\n",
       "      <td>False</td>\n",
       "      <td>traffic_light</td>\n",
       "      <td>6.953380e-02</td>\n",
       "      <td>False</td>\n",
       "    </tr>\n",
       "    <tr>\n",
       "      <th>2022</th>\n",
       "      <td>881268444196462592</td>\n",
       "      <td>https://pbs.twimg.com/media/DDrk-f9WAAI-WQv.jpg</td>\n",
       "      <td>1</td>\n",
       "      <td>tusker</td>\n",
       "      <td>0.473303</td>\n",
       "      <td>False</td>\n",
       "      <td>Indian_elephant</td>\n",
       "      <td>2.456460e-01</td>\n",
       "      <td>False</td>\n",
       "      <td>ibex</td>\n",
       "      <td>5.566070e-02</td>\n",
       "      <td>False</td>\n",
       "    </tr>\n",
       "    <tr>\n",
       "      <th>2026</th>\n",
       "      <td>882045870035918850</td>\n",
       "      <td>https://pbs.twimg.com/media/DD2oCl2WAAEI_4a.jpg</td>\n",
       "      <td>1</td>\n",
       "      <td>web_site</td>\n",
       "      <td>0.949591</td>\n",
       "      <td>False</td>\n",
       "      <td>dhole</td>\n",
       "      <td>1.732580e-02</td>\n",
       "      <td>False</td>\n",
       "      <td>golden_retriever</td>\n",
       "      <td>6.940630e-03</td>\n",
       "      <td>True</td>\n",
       "    </tr>\n",
       "    <tr>\n",
       "      <th>2046</th>\n",
       "      <td>886680336477933568</td>\n",
       "      <td>https://pbs.twimg.com/media/DE4fEDzWAAAyHMM.jpg</td>\n",
       "      <td>1</td>\n",
       "      <td>convertible</td>\n",
       "      <td>0.738995</td>\n",
       "      <td>False</td>\n",
       "      <td>sports_car</td>\n",
       "      <td>1.399520e-01</td>\n",
       "      <td>False</td>\n",
       "      <td>car_wheel</td>\n",
       "      <td>4.417270e-02</td>\n",
       "      <td>False</td>\n",
       "    </tr>\n",
       "    <tr>\n",
       "      <th>2052</th>\n",
       "      <td>887517139158093824</td>\n",
       "      <td>https://pbs.twimg.com/ext_tw_video_thumb/88751...</td>\n",
       "      <td>1</td>\n",
       "      <td>limousine</td>\n",
       "      <td>0.130432</td>\n",
       "      <td>False</td>\n",
       "      <td>tow_truck</td>\n",
       "      <td>2.917540e-02</td>\n",
       "      <td>False</td>\n",
       "      <td>shopping_cart</td>\n",
       "      <td>2.632080e-02</td>\n",
       "      <td>False</td>\n",
       "    </tr>\n",
       "    <tr>\n",
       "      <th>2071</th>\n",
       "      <td>891689557279858688</td>\n",
       "      <td>https://pbs.twimg.com/media/DF_q7IAWsAEuuN8.jpg</td>\n",
       "      <td>1</td>\n",
       "      <td>paper_towel</td>\n",
       "      <td>0.170278</td>\n",
       "      <td>False</td>\n",
       "      <td>Labrador_retriever</td>\n",
       "      <td>1.680860e-01</td>\n",
       "      <td>True</td>\n",
       "      <td>spatula</td>\n",
       "      <td>4.083590e-02</td>\n",
       "      <td>False</td>\n",
       "    </tr>\n",
       "    <tr>\n",
       "      <th>2074</th>\n",
       "      <td>892420643555336193</td>\n",
       "      <td>https://pbs.twimg.com/media/DGKD1-bXoAAIAUK.jpg</td>\n",
       "      <td>1</td>\n",
       "      <td>orange</td>\n",
       "      <td>0.097049</td>\n",
       "      <td>False</td>\n",
       "      <td>bagel</td>\n",
       "      <td>8.585110e-02</td>\n",
       "      <td>False</td>\n",
       "      <td>banana</td>\n",
       "      <td>7.611000e-02</td>\n",
       "      <td>False</td>\n",
       "    </tr>\n",
       "  </tbody>\n",
       "</table>\n",
       "<p>543 rows × 12 columns</p>\n",
       "</div>"
      ],
      "text/plain": [
       "                tweet_id                                            jpg_url  \\\n",
       "6     666051853826850816    https://pbs.twimg.com/media/CT5KoJ1WoAAJash.jpg   \n",
       "8     666057090499244032    https://pbs.twimg.com/media/CT5PY90WoAAQGLo.jpg   \n",
       "17    666104133288665088    https://pbs.twimg.com/media/CT56LSZWoAAlJj2.jpg   \n",
       "18    666268910803644416    https://pbs.twimg.com/media/CT8QCd1WEAADXws.jpg   \n",
       "21    666293911632134144    https://pbs.twimg.com/media/CT8mx7KW4AEQu8N.jpg   \n",
       "22    666337882303524864    https://pbs.twimg.com/media/CT9OwFIWEAMuRje.jpg   \n",
       "25    666362758909284353    https://pbs.twimg.com/media/CT9lXGsUcAAyUFt.jpg   \n",
       "29    666411507551481857    https://pbs.twimg.com/media/CT-RugiWIAELEaq.jpg   \n",
       "33    666430724426358785    https://pbs.twimg.com/media/CT-jNYqW4AAPi2M.jpg   \n",
       "43    666776908487630848    https://pbs.twimg.com/media/CUDeDoWUYAAD-EM.jpg   \n",
       "45    666786068205871104    https://pbs.twimg.com/media/CUDmZIkWcAAIPPe.jpg   \n",
       "50    666837028449972224    https://pbs.twimg.com/media/CUEUva1WsAA2jPb.jpg   \n",
       "51    666983947667116034    https://pbs.twimg.com/media/CUGaXDhW4AY9JUH.jpg   \n",
       "52    666996132027977728    https://pbs.twimg.com/media/CUGlb6iUwAITEbW.jpg   \n",
       "53    667012601033924608    https://pbs.twimg.com/media/CUG0bC0U8AAw2su.jpg   \n",
       "56    667065535570550784    https://pbs.twimg.com/media/CUHkkJpXIAA2w3n.jpg   \n",
       "69    667188689915760640    https://pbs.twimg.com/media/CUJUk2iWUAAVtOv.jpg   \n",
       "73    667369227918143488    https://pbs.twimg.com/media/CUL4xR9UkAEdlJ6.jpg   \n",
       "77    667437278097252352    https://pbs.twimg.com/media/CUM2qWaWoAUZ06L.jpg   \n",
       "78    667443425659232256    https://pbs.twimg.com/media/CUM8QZwW4AAVsBl.jpg   \n",
       "87    667524857454854144    https://pbs.twimg.com/media/CUOGUfJW4AA_eni.jpg   \n",
       "93    667549055577362432    https://pbs.twimg.com/media/CUOcVCwWsAERUKY.jpg   \n",
       "94    667550882905632768    https://pbs.twimg.com/media/CUObvUJVEAAnYPF.jpg   \n",
       "95    667550904950915073    https://pbs.twimg.com/media/CUOb_gUUkAACXdS.jpg   \n",
       "96    667724302356258817    https://pbs.twimg.com/media/CUQ7tv3W4AA3KlI.jpg   \n",
       "98    667766675769573376    https://pbs.twimg.com/media/CURiQMnUAAAPT2M.jpg   \n",
       "100   667782464991965184    https://pbs.twimg.com/media/CURwm3cUkAARcO6.jpg   \n",
       "103   667806454573760512    https://pbs.twimg.com/media/CUSGbXeVAAAgztZ.jpg   \n",
       "106   667866724293877760    https://pbs.twimg.com/media/CUS9PlUWwAANeAD.jpg   \n",
       "107   667873844930215936    https://pbs.twimg.com/media/CUTDtyGXIAARxus.jpg   \n",
       "...                  ...                                                ...   \n",
       "1900  851464819735769094    https://pbs.twimg.com/media/C9ECujZXsAAPCSM.jpg   \n",
       "1902  851861385021730816    https://pbs.twimg.com/media/C8W6sY_W0AEmttW.jpg   \n",
       "1904  852189679701164033    https://pbs.twimg.com/media/C9OV99SXsAEmj1U.jpg   \n",
       "1905  852226086759018497  https://pbs.twimg.com/ext_tw_video_thumb/85222...   \n",
       "1906  852311364735569921    https://pbs.twimg.com/media/C9QEqZ7XYAIR7fS.jpg   \n",
       "1910  853299958564483072    https://pbs.twimg.com/media/C9eHyF7XgAAOxPM.jpg   \n",
       "1931  859074603037188101    https://pbs.twimg.com/media/C-wLyufW0AA546I.jpg   \n",
       "1932  859196978902773760  https://pbs.twimg.com/ext_tw_video_thumb/85919...   \n",
       "1936  860184849394610176    https://pbs.twimg.com/media/C-_9jWWUwAAnwkd.jpg   \n",
       "1937  860276583193509888    https://pbs.twimg.com/media/C_BQ_NlVwAAgYGD.jpg   \n",
       "1940  860924035999428608    https://pbs.twimg.com/media/C_KVJjDXsAEUCWn.jpg   \n",
       "1942  861288531465048066  https://pbs.twimg.com/ext_tw_video_thumb/86128...   \n",
       "1944  861769973181624320    https://pbs.twimg.com/media/CzG425nWgAAnP7P.jpg   \n",
       "1946  862457590147678208    https://pbs.twimg.com/media/C_gQmaTUMAAPYSS.jpg   \n",
       "1953  863907417377173506    https://pbs.twimg.com/media/C_03NPeUQAAgrMl.jpg   \n",
       "1956  864873206498414592    https://pbs.twimg.com/media/DAClmHkXcAA1kSv.jpg   \n",
       "1970  868880397819494401    https://pbs.twimg.com/media/DA7iHL5U0AA1OQo.jpg   \n",
       "1975  870063196459192321    https://pbs.twimg.com/media/DBMV3NnXUAAm0Pp.jpg   \n",
       "1979  870804317367881728    https://pbs.twimg.com/media/DBW35ZsVoAEWZUU.jpg   \n",
       "1984  872122724285648897    https://pbs.twimg.com/media/DBpm-5UXcAUeCru.jpg   \n",
       "1992  873697596434513921    https://pbs.twimg.com/media/DA7iHL5U0AA1OQo.jpg   \n",
       "2012  879050749262655488    https://pbs.twimg.com/media/DDMD_phXoAQ1qf0.jpg   \n",
       "2013  879376492567855104    https://pbs.twimg.com/media/DDQsQGFV0AAw6u9.jpg   \n",
       "2021  880935762899988482    https://pbs.twimg.com/media/DDm2Z5aXUAEDS2u.jpg   \n",
       "2022  881268444196462592    https://pbs.twimg.com/media/DDrk-f9WAAI-WQv.jpg   \n",
       "2026  882045870035918850    https://pbs.twimg.com/media/DD2oCl2WAAEI_4a.jpg   \n",
       "2046  886680336477933568    https://pbs.twimg.com/media/DE4fEDzWAAAyHMM.jpg   \n",
       "2052  887517139158093824  https://pbs.twimg.com/ext_tw_video_thumb/88751...   \n",
       "2071  891689557279858688    https://pbs.twimg.com/media/DF_q7IAWsAEuuN8.jpg   \n",
       "2074  892420643555336193    https://pbs.twimg.com/media/DGKD1-bXoAAIAUK.jpg   \n",
       "\n",
       "      img_num                p1   p1_conf  p1_dog                    p2  \\\n",
       "6           1        box_turtle  0.933012   False            mud_turtle   \n",
       "8           1     shopping_cart  0.962465   False       shopping_basket   \n",
       "17          1               hen  0.965932   False                  cock   \n",
       "18          1  desktop_computer  0.086502   False                  desk   \n",
       "21          1  three-toed_sloth  0.914671   False                 otter   \n",
       "22          1                ox  0.416669   False          Newfoundland   \n",
       "25          1        guinea_pig  0.996496   False                 skunk   \n",
       "29          1              coho  0.404640   False            barracouta   \n",
       "33          1             llama  0.505184   False         Irish_terrier   \n",
       "43          1         seat_belt  0.375057   False    miniature_pinscher   \n",
       "45          1             snail  0.999888   False                  slug   \n",
       "50          1       triceratops  0.442113   False             armadillo   \n",
       "51          1              swab  0.589446   False             chain_saw   \n",
       "52          1               hay  0.507637   False            Rottweiler   \n",
       "53          1             hyena  0.987230   False   African_hunting_dog   \n",
       "56          1     jigsaw_puzzle  0.560001   False               doormat   \n",
       "69          1            vacuum  0.335830   False                  swab   \n",
       "73          1             teddy  0.709545   False            bath_towel   \n",
       "77          1         porcupine  0.989154   False            bath_towel   \n",
       "78          1             goose  0.980815   False                 drake   \n",
       "87          1              hare  0.447893   False                 dhole   \n",
       "93          1      electric_fan  0.984377   False             spotlight   \n",
       "94          1          web_site  0.998258   False            dishwasher   \n",
       "95          1          web_site  0.999335   False                vizsla   \n",
       "96          1              ibex  0.619098   False               bighorn   \n",
       "98          1       fire_engine  0.883493   False             tow_truck   \n",
       "100         1          lorikeet  0.466149   False           hummingbird   \n",
       "103         1           toyshop  0.253089   False             Chihuahua   \n",
       "106         1     jigsaw_puzzle  1.000000   False            prayer_rug   \n",
       "107         1     common_iguana  0.999647   False        frilled_lizard   \n",
       "...       ...               ...       ...     ...                   ...   \n",
       "1900        2          web_site  0.919649   False                  menu   \n",
       "1902        1        pencil_box  0.662183   False                 purse   \n",
       "1904        1            barrow  0.423150   False  Bernese_mountain_dog   \n",
       "1905        1            prison  0.352793   False            dishwasher   \n",
       "1906        1           barbell  0.971581   False              dumbbell   \n",
       "1910        1            grille  0.652280   False           beach_wagon   \n",
       "1931        1          revolver  0.190292   False            projectile   \n",
       "1932        1            Angora  0.224218   False              malamute   \n",
       "1936        1        chimpanzee  0.267612   False               gorilla   \n",
       "1937        1          lakeside  0.312299   False                  dock   \n",
       "1940        2          envelope  0.933016   False          oscilloscope   \n",
       "1942        1           syringe  0.144712   False           oxygen_mask   \n",
       "1944        2     Arabian_camel  0.366248   False           house_finch   \n",
       "1946        1      home_theater  0.496348   False          studio_couch   \n",
       "1953        1            marmot  0.358828   False               meerkat   \n",
       "1956        2              pole  0.478616   False              lakeside   \n",
       "1970        1            laptop  0.153718   False        French_bulldog   \n",
       "1975        1        comic_book  0.534409   False              envelope   \n",
       "1979        1      home_theater  0.168290   False               sandbar   \n",
       "1984        1        basketball  0.808396   False                   pug   \n",
       "1992        1            laptop  0.153718   False        French_bulldog   \n",
       "2012        1             tabby  0.311861   False         window_screen   \n",
       "2013        1          tricycle  0.663601   False    Labrador_retriever   \n",
       "2021        1       street_sign  0.251801   False              umbrella   \n",
       "2022        1            tusker  0.473303   False       Indian_elephant   \n",
       "2026        1          web_site  0.949591   False                 dhole   \n",
       "2046        1       convertible  0.738995   False            sports_car   \n",
       "2052        1         limousine  0.130432   False             tow_truck   \n",
       "2071        1       paper_towel  0.170278   False    Labrador_retriever   \n",
       "2074        1            orange  0.097049   False                 bagel   \n",
       "\n",
       "           p2_conf  p2_dog                        p3       p3_conf  p3_dog  \n",
       "6     4.588540e-02   False                  terrapin  1.788530e-02   False  \n",
       "8     1.459380e-02   False          golden_retriever  7.958960e-03    True  \n",
       "17    3.391940e-02   False                 partridge  5.206580e-05   False  \n",
       "18    8.554740e-02   False                  bookcase  7.947970e-02   False  \n",
       "21    1.525000e-02   False            great_grey_owl  1.320720e-02   False  \n",
       "22    2.784070e-01    True               groenendael  1.026430e-01    True  \n",
       "25    2.402450e-03   False                   hamster  4.608630e-04   False  \n",
       "29    2.714850e-01   False                       gar  1.899450e-01   False  \n",
       "33    1.041090e-01    True                     dingo  6.207120e-02   False  \n",
       "43    1.671750e-01    True                 Chihuahua  8.695060e-02    True  \n",
       "45    5.514170e-05   False                     acorn  2.625800e-05   False  \n",
       "50    1.140710e-01   False             common_iguana  4.325530e-02   False  \n",
       "51    1.901420e-01   False                       wig  3.450970e-02   False  \n",
       "52    6.248990e-02    True             water_buffalo  4.842470e-02   False  \n",
       "53    1.260080e-02   False                    coyote  5.735010e-05   False  \n",
       "56    1.032590e-01   False              space_heater  4.256800e-02   False  \n",
       "69    2.652780e-01   False             toilet_tissue  1.407030e-01   False  \n",
       "73    1.272850e-01   False        Christmas_stocking  2.856750e-02   False  \n",
       "77    6.300490e-03   False                    badger  9.663400e-04   False  \n",
       "78    6.917770e-03   False                       hen  5.255170e-03   False  \n",
       "87    9.243530e-02   False  Chesapeake_Bay_retriever  8.812240e-02    True  \n",
       "93    7.736710e-03   False                 lampshade  1.901230e-03   False  \n",
       "94    2.010840e-04   False              oscilloscope  1.417360e-04   False  \n",
       "95    8.106320e-05    True                    collie  6.915900e-05    True  \n",
       "96    1.251190e-01   False                       ram  7.467320e-02   False  \n",
       "98    7.473390e-02   False                      jeep  1.277260e-02   False  \n",
       "100   8.301100e-02   False              African_grey  5.424740e-02   False  \n",
       "103   1.871550e-01    True         Brabancon_griffon  1.127990e-01    True  \n",
       "106   1.011300e-08   False                   doormat  1.740170e-10   False  \n",
       "107   1.811500e-04   False         African_chameleon  1.283570e-04   False  \n",
       "...            ...     ...                       ...           ...     ...  \n",
       "1900  2.630610e-02   False          crossword_puzzle  3.481510e-03   False  \n",
       "1902  6.650550e-02   False                    pillow  4.472530e-02   False  \n",
       "1904  4.153740e-01    True               EntleBucher  6.734540e-02    True  \n",
       "1905  1.107230e-01   False                      file  9.411200e-02   False  \n",
       "1906  2.841790e-02   False                   go-kart  5.595040e-07   False  \n",
       "1910  1.128460e-01   False               convertible  8.625230e-02   False  \n",
       "1931  1.490640e-01   False                  fountain  6.604660e-02   False  \n",
       "1932  2.161630e-01    True               Persian_cat  1.283830e-01   False  \n",
       "1936  1.042930e-01   False                 orangutan  5.990750e-02   False  \n",
       "1937  1.598420e-01   False                     canoe  7.079450e-02   False  \n",
       "1940  1.259140e-02   False               paper_towel  1.117850e-02   False  \n",
       "1942  1.066840e-01   False      Bouvier_des_Flandres  8.261020e-02    True  \n",
       "1944  2.098520e-01   False            cocker_spaniel  4.640320e-02    True  \n",
       "1946  1.672560e-01   False              barber_chair  5.262500e-02   False  \n",
       "1953  1.747030e-01   False                    weasel  1.234850e-01   False  \n",
       "1956  1.141820e-01   False                     wreck  5.592650e-02   False  \n",
       "1970  9.998390e-02    True                   printer  7.712990e-02   False  \n",
       "1975  2.807220e-01   False               book_jacket  4.378550e-02   False  \n",
       "1979  9.804040e-02   False                television  7.972940e-02   False  \n",
       "1984  6.673630e-02    True                 dalmatian  5.456980e-02    True  \n",
       "1992  9.998390e-02    True                   printer  7.712990e-02   False  \n",
       "2012  1.691230e-01   False              Egyptian_cat  1.329320e-01   False  \n",
       "2013  3.349610e-02    True                  Pembroke  1.882660e-02    True  \n",
       "2021  1.151230e-01   False             traffic_light  6.953380e-02   False  \n",
       "2022  2.456460e-01   False                      ibex  5.566070e-02   False  \n",
       "2026  1.732580e-02   False          golden_retriever  6.940630e-03    True  \n",
       "2046  1.399520e-01   False                 car_wheel  4.417270e-02   False  \n",
       "2052  2.917540e-02   False             shopping_cart  2.632080e-02   False  \n",
       "2071  1.680860e-01    True                   spatula  4.083590e-02   False  \n",
       "2074  8.585110e-02   False                    banana  7.611000e-02   False  \n",
       "\n",
       "[543 rows x 12 columns]"
      ]
     },
     "execution_count": 24,
     "metadata": {},
     "output_type": "execute_result"
    }
   ],
   "source": [
    "image_prediction[image_prediction.p1_dog == False]"
   ]
  },
  {
   "cell_type": "markdown",
   "metadata": {},
   "source": [
    "Even if the second or the third predictions are dogs, the probabilities are very low. These tweets aren't useful."
   ]
  },
  {
   "cell_type": "code",
   "execution_count": 25,
   "metadata": {},
   "outputs": [
    {
     "name": "stdout",
     "output_type": "stream",
     "text": [
      "<class 'pandas.core.frame.DataFrame'>\n",
      "RangeIndex: 2345 entries, 0 to 2344\n",
      "Data columns (total 3 columns):\n",
      "tweet_id           2345 non-null int64\n",
      "retweet_count      2345 non-null int64\n",
      "favourite_count    2345 non-null int64\n",
      "dtypes: int64(3)\n",
      "memory usage: 55.0 KB\n"
     ]
    }
   ],
   "source": [
    "tweet_counts.info()"
   ]
  },
  {
   "cell_type": "code",
   "execution_count": 26,
   "metadata": {},
   "outputs": [
    {
     "data": {
      "text/html": [
       "<div>\n",
       "<style>\n",
       "    .dataframe thead tr:only-child th {\n",
       "        text-align: right;\n",
       "    }\n",
       "\n",
       "    .dataframe thead th {\n",
       "        text-align: left;\n",
       "    }\n",
       "\n",
       "    .dataframe tbody tr th {\n",
       "        vertical-align: top;\n",
       "    }\n",
       "</style>\n",
       "<table border=\"1\" class=\"dataframe\">\n",
       "  <thead>\n",
       "    <tr style=\"text-align: right;\">\n",
       "      <th></th>\n",
       "      <th>tweet_id</th>\n",
       "      <th>retweet_count</th>\n",
       "      <th>favourite_count</th>\n",
       "    </tr>\n",
       "  </thead>\n",
       "  <tbody>\n",
       "    <tr>\n",
       "      <th>0</th>\n",
       "      <td>892420643555336193</td>\n",
       "      <td>8627</td>\n",
       "      <td>38910</td>\n",
       "    </tr>\n",
       "    <tr>\n",
       "      <th>1</th>\n",
       "      <td>892177421306343426</td>\n",
       "      <td>6334</td>\n",
       "      <td>33325</td>\n",
       "    </tr>\n",
       "    <tr>\n",
       "      <th>2</th>\n",
       "      <td>891815181378084864</td>\n",
       "      <td>4207</td>\n",
       "      <td>25105</td>\n",
       "    </tr>\n",
       "    <tr>\n",
       "      <th>3</th>\n",
       "      <td>891689557279858688</td>\n",
       "      <td>8748</td>\n",
       "      <td>42270</td>\n",
       "    </tr>\n",
       "    <tr>\n",
       "      <th>4</th>\n",
       "      <td>891327558926688256</td>\n",
       "      <td>9507</td>\n",
       "      <td>40430</td>\n",
       "    </tr>\n",
       "  </tbody>\n",
       "</table>\n",
       "</div>"
      ],
      "text/plain": [
       "             tweet_id  retweet_count  favourite_count\n",
       "0  892420643555336193           8627            38910\n",
       "1  892177421306343426           6334            33325\n",
       "2  891815181378084864           4207            25105\n",
       "3  891689557279858688           8748            42270\n",
       "4  891327558926688256           9507            40430"
      ]
     },
     "execution_count": 26,
     "metadata": {},
     "output_type": "execute_result"
    }
   ],
   "source": [
    "tweet_counts.head()"
   ]
  },
  {
   "cell_type": "markdown",
   "metadata": {},
   "source": [
    "#### Quality\n",
    "\n",
    "\n",
    "#### `twitter_archive` table\n",
    "\n",
    "- `tweet_id` should be string.\n",
    "- Remove the tweets with retweeted ids (Asssuming these are not original tweets)\n",
    "- `Source` column is messy. Need clean up\n",
    "- Somme inconsistencies in denominator rating.\n",
    "- Some weird dog names such as: a, an, unacceptable. \n",
    "- The dog stage columns represent whether the dog stage word appears in the text, so they are better represented as 0 and 1, and should be categorical.\n",
    "- Drop irrelevant columns(reply ids, retweet ids, expanded url)\n",
    "\n",
    "\n",
    "#### `image_prediction` table\n",
    "\n",
    "- `tweet_id` should be string.\n",
    "- p1, p2, p3 - inconsistent format for the predicted breed/object (upper/lower case, replace underscoe with space)\n",
    "- drop irrelevant columns(img_num, url)\n",
    "\n",
    "#### `tweet_counts` table\n",
    "\n",
    "- `tweet_id` should be string.\n",
    "\n",
    "#### Tidiness\n",
    "\n",
    "#### `twitter_archive` table\n",
    "\n",
    "- check whether each tweet only contains one dog stage word, if so, dog stage should be one column instead of four separate columns.\n",
    "- parse timesteamp into date and time columns\n",
    "\n",
    "#### overall\n",
    "\n",
    "- merge the three data sets into one.\n"
   ]
  },
  {
   "cell_type": "markdown",
   "metadata": {},
   "source": [
    "### Wrangle"
   ]
  },
  {
   "cell_type": "markdown",
   "metadata": {},
   "source": [
    "### `twitter_archive` table\n",
    "\n",
    "#### Define\n",
    "\n",
    "All id columns should be string.\n",
    "\n",
    "#### Code"
   ]
  },
  {
   "cell_type": "code",
   "execution_count": 27,
   "metadata": {
    "collapsed": true
   },
   "outputs": [],
   "source": [
    "twitter_archive.tweet_id = twitter_archive.tweet_id.astype('str')"
   ]
  },
  {
   "cell_type": "markdown",
   "metadata": {},
   "source": [
    "#### Test"
   ]
  },
  {
   "cell_type": "code",
   "execution_count": 28,
   "metadata": {},
   "outputs": [
    {
     "name": "stdout",
     "output_type": "stream",
     "text": [
      "<class 'pandas.core.frame.DataFrame'>\n",
      "RangeIndex: 2356 entries, 0 to 2355\n",
      "Data columns (total 17 columns):\n",
      "tweet_id                      2356 non-null object\n",
      "in_reply_to_status_id         78 non-null float64\n",
      "in_reply_to_user_id           78 non-null float64\n",
      "timestamp                     2356 non-null object\n",
      "source                        2356 non-null object\n",
      "text                          2356 non-null object\n",
      "retweeted_status_id           181 non-null float64\n",
      "retweeted_status_user_id      181 non-null float64\n",
      "retweeted_status_timestamp    181 non-null object\n",
      "expanded_urls                 2297 non-null object\n",
      "rating_numerator              2356 non-null int64\n",
      "rating_denominator            2356 non-null int64\n",
      "name                          2356 non-null object\n",
      "doggo                         2356 non-null object\n",
      "floofer                       2356 non-null object\n",
      "pupper                        2356 non-null object\n",
      "puppo                         2356 non-null object\n",
      "dtypes: float64(4), int64(2), object(11)\n",
      "memory usage: 313.0+ KB\n"
     ]
    }
   ],
   "source": [
    "twitter_archive.info()"
   ]
  },
  {
   "cell_type": "markdown",
   "metadata": {},
   "source": [
    "#### Define\n",
    "\n",
    "Remove the tweets with retweeted ids (Asssuming these are not original tweets)\n",
    "\n",
    "#### Code"
   ]
  },
  {
   "cell_type": "code",
   "execution_count": 29,
   "metadata": {
    "collapsed": true
   },
   "outputs": [],
   "source": [
    "twitter_archive = twitter_archive[twitter_archive.retweeted_status_id.isnull()]"
   ]
  },
  {
   "cell_type": "markdown",
   "metadata": {},
   "source": [
    "#### Test"
   ]
  },
  {
   "cell_type": "code",
   "execution_count": 30,
   "metadata": {},
   "outputs": [
    {
     "name": "stdout",
     "output_type": "stream",
     "text": [
      "<class 'pandas.core.frame.DataFrame'>\n",
      "Int64Index: 2175 entries, 0 to 2355\n",
      "Data columns (total 17 columns):\n",
      "tweet_id                      2175 non-null object\n",
      "in_reply_to_status_id         78 non-null float64\n",
      "in_reply_to_user_id           78 non-null float64\n",
      "timestamp                     2175 non-null object\n",
      "source                        2175 non-null object\n",
      "text                          2175 non-null object\n",
      "retweeted_status_id           0 non-null float64\n",
      "retweeted_status_user_id      0 non-null float64\n",
      "retweeted_status_timestamp    0 non-null object\n",
      "expanded_urls                 2117 non-null object\n",
      "rating_numerator              2175 non-null int64\n",
      "rating_denominator            2175 non-null int64\n",
      "name                          2175 non-null object\n",
      "doggo                         2175 non-null object\n",
      "floofer                       2175 non-null object\n",
      "pupper                        2175 non-null object\n",
      "puppo                         2175 non-null object\n",
      "dtypes: float64(4), int64(2), object(11)\n",
      "memory usage: 305.9+ KB\n"
     ]
    }
   ],
   "source": [
    "twitter_archive.info()"
   ]
  },
  {
   "cell_type": "markdown",
   "metadata": {},
   "source": [
    "#### Define\n",
    "\n",
    "`Source` column is messy and hard to read.\n",
    "\n",
    "#### Code"
   ]
  },
  {
   "cell_type": "code",
   "execution_count": 31,
   "metadata": {
    "collapsed": true
   },
   "outputs": [],
   "source": [
    "def return_source(x):\n",
    "    return x[x.find('\">')+2:x.find(\"</\")]\n",
    "\n",
    "twitter_archive.source = twitter_archive.source.apply(return_source)"
   ]
  },
  {
   "cell_type": "markdown",
   "metadata": {},
   "source": [
    "#### Test"
   ]
  },
  {
   "cell_type": "code",
   "execution_count": 32,
   "metadata": {},
   "outputs": [
    {
     "data": {
      "text/plain": [
       "Twitter for iPhone     2042\n",
       "Vine - Make a Scene      91\n",
       "Twitter Web Client       31\n",
       "TweetDeck                11\n",
       "Name: source, dtype: int64"
      ]
     },
     "execution_count": 32,
     "metadata": {},
     "output_type": "execute_result"
    }
   ],
   "source": [
    "twitter_archive.source.value_counts()"
   ]
  },
  {
   "cell_type": "markdown",
   "metadata": {},
   "source": [
    "#### Define\n",
    "\n",
    "Some inconsistencies in denominator rating. Remove those observations where the denominators are not 10.\n",
    "\n",
    "#### Code"
   ]
  },
  {
   "cell_type": "code",
   "execution_count": 33,
   "metadata": {
    "collapsed": true
   },
   "outputs": [],
   "source": [
    "twitter_archive = twitter_archive[twitter_archive.rating_denominator == 10]"
   ]
  },
  {
   "cell_type": "markdown",
   "metadata": {},
   "source": [
    "#### Test"
   ]
  },
  {
   "cell_type": "code",
   "execution_count": 34,
   "metadata": {},
   "outputs": [
    {
     "data": {
      "text/plain": [
       "10    2153\n",
       "Name: rating_denominator, dtype: int64"
      ]
     },
     "execution_count": 34,
     "metadata": {},
     "output_type": "execute_result"
    }
   ],
   "source": [
    "twitter_archive.rating_denominator.value_counts()"
   ]
  },
  {
   "cell_type": "markdown",
   "metadata": {},
   "source": [
    "#### Define\n",
    "\n",
    "Replace `None` with `NaN`. Also remove names that seemingly appear to be invalid names (all 'names' starting with a lower case letter).\n",
    "\n",
    "#### Code"
   ]
  },
  {
   "cell_type": "code",
   "execution_count": 35,
   "metadata": {
    "collapsed": true
   },
   "outputs": [],
   "source": [
    "def return_nan_name(x):\n",
    "    if x.islower():\n",
    "        return 'None'\n",
    "    else:\n",
    "        return x\n",
    "    \n",
    "twitter_archive.name = twitter_archive.name.apply(return_nan_name)\n",
    "\n",
    "twitter_archive.name.replace('None', np.NaN, inplace = True)"
   ]
  },
  {
   "cell_type": "code",
   "execution_count": 36,
   "metadata": {},
   "outputs": [
    {
     "data": {
      "text/plain": [
       "Charlie     11\n",
       "Lucy        11\n",
       "Oliver      10\n",
       "Cooper      10\n",
       "Penny        9\n",
       "Tucker       9\n",
       "Sadie        8\n",
       "Lola         8\n",
       "Winston      8\n",
       "Daisy        7\n",
       "Toby         7\n",
       "Bailey       6\n",
       "Oscar        6\n",
       "Koda         6\n",
       "Bella        6\n",
       "Bo           6\n",
       "Jax          6\n",
       "Stanley      6\n",
       "Rusty        5\n",
       "Dave         5\n",
       "Milo         5\n",
       "Chester      5\n",
       "Buddy        5\n",
       "Louis        5\n",
       "Leo          5\n",
       "Bentley      5\n",
       "Scout        5\n",
       "Duke         4\n",
       "Boomer       4\n",
       "Archie       4\n",
       "            ..\n",
       "Jo           1\n",
       "Cuddles      1\n",
       "Caryl        1\n",
       "Brandi       1\n",
       "Mairi        1\n",
       "Mark         1\n",
       "Meatball     1\n",
       "Rolf         1\n",
       "Leonidas     1\n",
       "Flash        1\n",
       "Terrenth     1\n",
       "Eriq         1\n",
       "Superpup     1\n",
       "Berb         1\n",
       "Anakin       1\n",
       "Mack         1\n",
       "Shaggy       1\n",
       "Adele        1\n",
       "Lulu         1\n",
       "Marty        1\n",
       "Mookie       1\n",
       "Rumpole      1\n",
       "Monster      1\n",
       "Howie        1\n",
       "Sam          1\n",
       "Aubie        1\n",
       "Traviss      1\n",
       "Ben          1\n",
       "Humphrey     1\n",
       "Pippin       1\n",
       "Name: name, Length: 928, dtype: int64"
      ]
     },
     "execution_count": 36,
     "metadata": {},
     "output_type": "execute_result"
    }
   ],
   "source": [
    "twitter_archive.name.value_counts()"
   ]
  },
  {
   "cell_type": "markdown",
   "metadata": {},
   "source": [
    "#### Define\n",
    "\n",
    "Recode the doggo lingo values to 0 and 1\n",
    "\n",
    "#### Code"
   ]
  },
  {
   "cell_type": "code",
   "execution_count": 37,
   "metadata": {
    "collapsed": true
   },
   "outputs": [],
   "source": [
    "def recode_lingo(x):\n",
    "    if x == 'None':\n",
    "        return 0\n",
    "    else:\n",
    "        return 1\n",
    "    \n",
    "twitter_archive.doggo = twitter_archive.doggo.apply(recode_lingo)\n",
    "twitter_archive.floofer = twitter_archive.floofer.apply(recode_lingo)\n",
    "twitter_archive.pupper = twitter_archive.pupper.apply(recode_lingo)\n",
    "twitter_archive.puppo = twitter_archive.puppo.apply(recode_lingo)"
   ]
  },
  {
   "cell_type": "markdown",
   "metadata": {},
   "source": [
    "#### Test"
   ]
  },
  {
   "cell_type": "code",
   "execution_count": 38,
   "metadata": {},
   "outputs": [
    {
     "data": {
      "text/plain": [
       "0    2066\n",
       "1      87\n",
       "Name: doggo, dtype: int64"
      ]
     },
     "execution_count": 38,
     "metadata": {},
     "output_type": "execute_result"
    }
   ],
   "source": [
    "twitter_archive.doggo.value_counts()"
   ]
  },
  {
   "cell_type": "markdown",
   "metadata": {},
   "source": [
    "#### Define\n",
    "\n",
    "Drop irrelevant columns\n",
    "\n",
    "#### Code"
   ]
  },
  {
   "cell_type": "code",
   "execution_count": 39,
   "metadata": {},
   "outputs": [],
   "source": [
    "twitter_archive.drop(labels = ['in_reply_to_status_id', 'in_reply_to_user_id',\n",
    "                              'retweeted_status_id', 'retweeted_status_user_id',\n",
    "                              'retweeted_status_timestamp','expanded_urls'],axis = 1, inplace = True)"
   ]
  },
  {
   "cell_type": "markdown",
   "metadata": {},
   "source": [
    "#### Test"
   ]
  },
  {
   "cell_type": "code",
   "execution_count": 40,
   "metadata": {},
   "outputs": [
    {
     "name": "stdout",
     "output_type": "stream",
     "text": [
      "<class 'pandas.core.frame.DataFrame'>\n",
      "Int64Index: 2153 entries, 0 to 2355\n",
      "Data columns (total 11 columns):\n",
      "tweet_id              2153 non-null object\n",
      "timestamp             2153 non-null object\n",
      "source                2153 non-null object\n",
      "text                  2153 non-null object\n",
      "rating_numerator      2153 non-null int64\n",
      "rating_denominator    2153 non-null int64\n",
      "name                  1388 non-null object\n",
      "doggo                 2153 non-null int64\n",
      "floofer               2153 non-null int64\n",
      "pupper                2153 non-null int64\n",
      "puppo                 2153 non-null int64\n",
      "dtypes: int64(6), object(5)\n",
      "memory usage: 201.8+ KB\n"
     ]
    }
   ],
   "source": [
    "twitter_archive.info()"
   ]
  },
  {
   "cell_type": "markdown",
   "metadata": {},
   "source": [
    "### `image_prediction` table\n",
    "\n",
    "#### Define\n",
    "\n",
    "Set `tweet_id` as string.\n",
    "\n",
    "#### Code"
   ]
  },
  {
   "cell_type": "code",
   "execution_count": 41,
   "metadata": {
    "collapsed": true
   },
   "outputs": [],
   "source": [
    "image_prediction.tweet_id = image_prediction.tweet_id.astype('str')"
   ]
  },
  {
   "cell_type": "markdown",
   "metadata": {},
   "source": [
    "#### Test"
   ]
  },
  {
   "cell_type": "code",
   "execution_count": 42,
   "metadata": {},
   "outputs": [
    {
     "name": "stdout",
     "output_type": "stream",
     "text": [
      "<class 'pandas.core.frame.DataFrame'>\n",
      "RangeIndex: 2075 entries, 0 to 2074\n",
      "Data columns (total 12 columns):\n",
      "tweet_id    2075 non-null object\n",
      "jpg_url     2075 non-null object\n",
      "img_num     2075 non-null int64\n",
      "p1          2075 non-null object\n",
      "p1_conf     2075 non-null float64\n",
      "p1_dog      2075 non-null bool\n",
      "p2          2075 non-null object\n",
      "p2_conf     2075 non-null float64\n",
      "p2_dog      2075 non-null bool\n",
      "p3          2075 non-null object\n",
      "p3_conf     2075 non-null float64\n",
      "p3_dog      2075 non-null bool\n",
      "dtypes: bool(3), float64(3), int64(1), object(5)\n",
      "memory usage: 152.1+ KB\n"
     ]
    }
   ],
   "source": [
    "image_prediction.info()"
   ]
  },
  {
   "cell_type": "markdown",
   "metadata": {},
   "source": [
    "#### Define\n",
    "\n",
    "Fix predicted object names (p1, p2, p3)\n",
    "\n",
    "#### Code"
   ]
  },
  {
   "cell_type": "code",
   "execution_count": 43,
   "metadata": {
    "collapsed": true
   },
   "outputs": [],
   "source": [
    "image_prediction.p1 = image_prediction.p1.str.replace('_', ' ').str.title()\n",
    "image_prediction.p2 = image_prediction.p2.str.replace('_', ' ').str.title()\n",
    "image_prediction.p3 = image_prediction.p3.str.replace('_', ' ').str.title()"
   ]
  },
  {
   "cell_type": "markdown",
   "metadata": {},
   "source": [
    "#### Test"
   ]
  },
  {
   "cell_type": "code",
   "execution_count": 44,
   "metadata": {},
   "outputs": [
    {
     "data": {
      "text/plain": [
       "Golden Retriever             150\n",
       "Labrador Retriever           100\n",
       "Pembroke                      89\n",
       "Chihuahua                     83\n",
       "Pug                           57\n",
       "Chow                          44\n",
       "Samoyed                       43\n",
       "Toy Poodle                    39\n",
       "Pomeranian                    38\n",
       "Malamute                      30\n",
       "Cocker Spaniel                30\n",
       "French Bulldog                26\n",
       "Miniature Pinscher            23\n",
       "Chesapeake Bay Retriever      23\n",
       "Seat Belt                     22\n",
       "Siberian Husky                20\n",
       "German Shepherd               20\n",
       "Staffordshire Bullterrier     20\n",
       "Web Site                      19\n",
       "Cardigan                      19\n",
       "Teddy                         18\n",
       "Maltese Dog                   18\n",
       "Beagle                        18\n",
       "Eskimo Dog                    18\n",
       "Shetland Sheepdog             18\n",
       "Lakeland Terrier              17\n",
       "Rottweiler                    17\n",
       "Shih-Tzu                      17\n",
       "Kuvasz                        16\n",
       "Italian Greyhound             16\n",
       "                            ... \n",
       "Padlock                        1\n",
       "Ocarina                        1\n",
       "Japanese Spaniel               1\n",
       "Maze                           1\n",
       "Timber Wolf                    1\n",
       "Ping-Pong Ball                 1\n",
       "Ice Lolly                      1\n",
       "Toilet Seat                    1\n",
       "Wild Boar                      1\n",
       "Bow                            1\n",
       "Coho                           1\n",
       "Remote Control                 1\n",
       "Water Bottle                   1\n",
       "Espresso                       1\n",
       "African Crocodile              1\n",
       "Tick                           1\n",
       "Loupe                          1\n",
       "Cougar                         1\n",
       "Cheetah                        1\n",
       "Microphone                     1\n",
       "Mailbox                        1\n",
       "Robin                          1\n",
       "Egyptian Cat                   1\n",
       "Groenendael                    1\n",
       "Entlebucher                    1\n",
       "Mud Turtle                     1\n",
       "Banana                         1\n",
       "Silky Terrier                  1\n",
       "Bearskin                       1\n",
       "Starfish                       1\n",
       "Name: p1, Length: 378, dtype: int64"
      ]
     },
     "execution_count": 44,
     "metadata": {},
     "output_type": "execute_result"
    }
   ],
   "source": [
    "image_prediction.p1.value_counts()"
   ]
  },
  {
   "cell_type": "markdown",
   "metadata": {},
   "source": [
    "#### Define\n",
    "\n",
    "- drop irrelevant columns(img_num, url)\n",
    "\n",
    "#### Code"
   ]
  },
  {
   "cell_type": "code",
   "execution_count": 45,
   "metadata": {
    "collapsed": true
   },
   "outputs": [],
   "source": [
    "image_prediction.drop(labels=['jpg_url','img_num'], axis = 1, inplace = True)"
   ]
  },
  {
   "cell_type": "markdown",
   "metadata": {},
   "source": [
    "#### Test"
   ]
  },
  {
   "cell_type": "code",
   "execution_count": 46,
   "metadata": {},
   "outputs": [
    {
     "name": "stdout",
     "output_type": "stream",
     "text": [
      "<class 'pandas.core.frame.DataFrame'>\n",
      "RangeIndex: 2075 entries, 0 to 2074\n",
      "Data columns (total 10 columns):\n",
      "tweet_id    2075 non-null object\n",
      "p1          2075 non-null object\n",
      "p1_conf     2075 non-null float64\n",
      "p1_dog      2075 non-null bool\n",
      "p2          2075 non-null object\n",
      "p2_conf     2075 non-null float64\n",
      "p2_dog      2075 non-null bool\n",
      "p3          2075 non-null object\n",
      "p3_conf     2075 non-null float64\n",
      "p3_dog      2075 non-null bool\n",
      "dtypes: bool(3), float64(3), object(4)\n",
      "memory usage: 119.6+ KB\n"
     ]
    }
   ],
   "source": [
    "image_prediction.info()"
   ]
  },
  {
   "cell_type": "markdown",
   "metadata": {},
   "source": [
    "#### Define\n",
    "\n",
    "Set `tweet_id` as string.\n",
    "\n",
    "#### Code"
   ]
  },
  {
   "cell_type": "code",
   "execution_count": 47,
   "metadata": {
    "collapsed": true
   },
   "outputs": [],
   "source": [
    "tweet_counts.tweet_id = tweet_counts.tweet_id.astype('str')"
   ]
  },
  {
   "cell_type": "markdown",
   "metadata": {},
   "source": [
    "#### Test"
   ]
  },
  {
   "cell_type": "code",
   "execution_count": 48,
   "metadata": {},
   "outputs": [
    {
     "name": "stdout",
     "output_type": "stream",
     "text": [
      "<class 'pandas.core.frame.DataFrame'>\n",
      "RangeIndex: 2345 entries, 0 to 2344\n",
      "Data columns (total 3 columns):\n",
      "tweet_id           2345 non-null object\n",
      "retweet_count      2345 non-null int64\n",
      "favourite_count    2345 non-null int64\n",
      "dtypes: int64(2), object(1)\n",
      "memory usage: 55.0+ KB\n"
     ]
    }
   ],
   "source": [
    "tweet_counts.info()"
   ]
  },
  {
   "cell_type": "markdown",
   "metadata": {},
   "source": [
    "#### Define\n",
    "\n",
    "Check whether each tweet only contains one doggo lingo, if so, doggo lingo should be one column instead of four separate columns.\n",
    "\n",
    "#### Code"
   ]
  },
  {
   "cell_type": "code",
   "execution_count": 49,
   "metadata": {},
   "outputs": [
    {
     "data": {
      "text/plain": [
       "0    1809\n",
       "1     332\n",
       "2      12\n",
       "dtype: int64"
      ]
     },
     "execution_count": 49,
     "metadata": {},
     "output_type": "execute_result"
    }
   ],
   "source": [
    "twitter_archive[['doggo','floofer','pupper','puppo']].sum(axis = 1).value_counts()"
   ]
  },
  {
   "cell_type": "markdown",
   "metadata": {},
   "source": [
    "There are 12 tweets containing 2 doggo words. If we want to collapse the four column into one, we need to decide which word to keep."
   ]
  },
  {
   "cell_type": "code",
   "execution_count": 50,
   "metadata": {},
   "outputs": [
    {
     "data": {
      "text/plain": [
       "array([ \"Here's a puppo participating in the #ScienceMarch. Cleverly disguising her own doggo agenda. 13/10 would keep the planet habitable for https://t.co/cMhq16isel\",\n",
       "       \"At first I thought this was a shy doggo, but it's actually a Rare Canadian Floofer Owl. Amateurs would confuse the two. 11/10 only send dogs https://t.co/TXdT3tmuYk\",\n",
       "       'This is Dido. She\\'s playing the lead role in \"Pupper Stops to Catch Snow Before Resuming Shadow Box with Dried Apple.\" 13/10 (IG: didodoggo) https://t.co/m7isZrOBX7',\n",
       "       'Here we have Burke (pupper) and Dexter (doggo). Pupper wants to be exactly like doggo. Both 12/10 would pet at same time https://t.co/ANBpEYHaho',\n",
       "       'Like doggo, like pupper version 2. Both 11/10 https://t.co/9IxWAXFqze',\n",
       "       \"This is Bones. He's being haunted by another doggo of roughly the same size. 12/10 deep breaths pupper everything's fine https://t.co/55Dqe0SJNj\",\n",
       "       \"This is Pinot. He's a sophisticated doggo. You can tell by the hat. Also pointier than your average pupper. Still 10/10 would pet cautiously https://t.co/f2wmLZTPHd\",\n",
       "       'Pupper butt 1, Doggo 0. Both 12/10 https://t.co/WQvcPEpH2u',\n",
       "       'Meet Maggie &amp; Lila. Maggie is the doggo, Lila is the pupper. They are sisters. Both 12/10 would pet at the same time https://t.co/MYwR4DQKll',\n",
       "       \"Please stop sending it pictures that don't even have a doggo or pupper in them. Churlish af. 5/10 neat couch tho https://t.co/u2c9c7qSg8\",\n",
       "       'This is just downright precious af. 12/10 for both pupper and doggo https://t.co/o5J479bZUC',\n",
       "       'Like father (doggo), like son (pupper). Both 12/10 https://t.co/pG2inLaOda'], dtype=object)"
      ]
     },
     "execution_count": 50,
     "metadata": {},
     "output_type": "execute_result"
    }
   ],
   "source": [
    "twitter_archive.text[twitter_archive[['doggo','floofer','pupper','puppo']].sum(axis = 1) == 2].values"
   ]
  },
  {
   "cell_type": "markdown",
   "metadata": {},
   "source": [
    "Looks like most of these 12 tweets and images contain two dogs in different dog stages. Since 12 is a relatively small number, we opt to remove these 12 observations, and then collapse the four columns into one."
   ]
  },
  {
   "cell_type": "code",
   "execution_count": 51,
   "metadata": {
    "collapsed": true
   },
   "outputs": [],
   "source": [
    "twitter_archive = twitter_archive[twitter_archive[['doggo','floofer','pupper','puppo']].sum(axis = 1) != 2]"
   ]
  },
  {
   "cell_type": "code",
   "execution_count": 52,
   "metadata": {},
   "outputs": [
    {
     "data": {
      "text/plain": [
       "0    1809\n",
       "1     332\n",
       "dtype: int64"
      ]
     },
     "execution_count": 52,
     "metadata": {},
     "output_type": "execute_result"
    }
   ],
   "source": [
    "twitter_archive[['doggo','floofer','pupper','puppo']].sum(axis = 1).value_counts()"
   ]
  },
  {
   "cell_type": "code",
   "execution_count": 53,
   "metadata": {},
   "outputs": [
    {
     "name": "stderr",
     "output_type": "stream",
     "text": [
      "C:\\Users\\LokHeng\\Anaconda3\\lib\\site-packages\\ipykernel_launcher.py:3: SettingWithCopyWarning: \n",
      "A value is trying to be set on a copy of a slice from a DataFrame\n",
      "\n",
      "See the caveats in the documentation: http://pandas.pydata.org/pandas-docs/stable/indexing.html#indexing-view-versus-copy\n",
      "  This is separate from the ipykernel package so we can avoid doing imports until\n",
      "C:\\Users\\LokHeng\\Anaconda3\\lib\\site-packages\\ipykernel_launcher.py:4: SettingWithCopyWarning: \n",
      "A value is trying to be set on a copy of a slice from a DataFrame\n",
      "\n",
      "See the caveats in the documentation: http://pandas.pydata.org/pandas-docs/stable/indexing.html#indexing-view-versus-copy\n",
      "  after removing the cwd from sys.path.\n",
      "C:\\Users\\LokHeng\\Anaconda3\\lib\\site-packages\\ipykernel_launcher.py:5: SettingWithCopyWarning: \n",
      "A value is trying to be set on a copy of a slice from a DataFrame\n",
      "\n",
      "See the caveats in the documentation: http://pandas.pydata.org/pandas-docs/stable/indexing.html#indexing-view-versus-copy\n",
      "  \"\"\"\n",
      "C:\\Users\\LokHeng\\Anaconda3\\lib\\site-packages\\ipykernel_launcher.py:6: SettingWithCopyWarning: \n",
      "A value is trying to be set on a copy of a slice from a DataFrame\n",
      "\n",
      "See the caveats in the documentation: http://pandas.pydata.org/pandas-docs/stable/indexing.html#indexing-view-versus-copy\n",
      "  \n"
     ]
    }
   ],
   "source": [
    "twitter_archive['stage'] = 'None'\n",
    "\n",
    "twitter_archive.stage[twitter_archive.doggo == 1] = 'doggo'\n",
    "twitter_archive.stage[twitter_archive.floofer == 1] = 'floofer'\n",
    "twitter_archive.stage[twitter_archive.pupper == 1] = 'pupper'\n",
    "twitter_archive.stage[twitter_archive.puppo == 1] = 'puppo'\n",
    "\n",
    "twitter_archive.stage.replace('None', np.NaN, inplace = True)"
   ]
  },
  {
   "cell_type": "code",
   "execution_count": 54,
   "metadata": {
    "collapsed": true
   },
   "outputs": [],
   "source": [
    "twitter_archive.drop(labels = ['doggo','floofer','pupper','puppo'], axis = 1, inplace = True)"
   ]
  },
  {
   "cell_type": "code",
   "execution_count": 55,
   "metadata": {},
   "outputs": [
    {
     "data": {
      "text/plain": [
       "pupper     224\n",
       "doggo       75\n",
       "puppo       24\n",
       "floofer      9\n",
       "Name: stage, dtype: int64"
      ]
     },
     "execution_count": 55,
     "metadata": {},
     "output_type": "execute_result"
    }
   ],
   "source": [
    "twitter_archive.stage.value_counts()"
   ]
  },
  {
   "cell_type": "code",
   "execution_count": 56,
   "metadata": {},
   "outputs": [
    {
     "name": "stdout",
     "output_type": "stream",
     "text": [
      "<class 'pandas.core.frame.DataFrame'>\n",
      "Int64Index: 2141 entries, 0 to 2355\n",
      "Data columns (total 8 columns):\n",
      "tweet_id              2141 non-null object\n",
      "timestamp             2141 non-null object\n",
      "source                2141 non-null object\n",
      "text                  2141 non-null object\n",
      "rating_numerator      2141 non-null int64\n",
      "rating_denominator    2141 non-null int64\n",
      "name                  1384 non-null object\n",
      "stage                 332 non-null object\n",
      "dtypes: int64(2), object(6)\n",
      "memory usage: 150.5+ KB\n"
     ]
    }
   ],
   "source": [
    "twitter_archive.info()"
   ]
  },
  {
   "cell_type": "markdown",
   "metadata": {},
   "source": [
    "#### Define\n",
    "\n",
    "parse timesteamp into date and time columns\n",
    "\n",
    "#### Code"
   ]
  },
  {
   "cell_type": "code",
   "execution_count": 57,
   "metadata": {},
   "outputs": [],
   "source": [
    "twitter_archive['date'] = pd.to_datetime(twitter_archive.timestamp.str[0:10])\n",
    "twitter_archive['time'] = pd.to_datetime(twitter_archive.timestamp.str[11:-6]).dt.time\n",
    "\n",
    "twitter_archive.drop(labels = ['timestamp'], axis = 1, inplace = True)"
   ]
  },
  {
   "cell_type": "code",
   "execution_count": 58,
   "metadata": {},
   "outputs": [],
   "source": [
    "twitter_archive = twitter_archive.reindex(columns = ['tweet_id', 'date', 'time', 'source', 'text',\n",
    "                                                     'rating_numerator','rating_denominator',\n",
    "                                                     'name', 'stage'])"
   ]
  },
  {
   "cell_type": "markdown",
   "metadata": {},
   "source": [
    "#### Check"
   ]
  },
  {
   "cell_type": "code",
   "execution_count": 59,
   "metadata": {},
   "outputs": [
    {
     "name": "stdout",
     "output_type": "stream",
     "text": [
      "<class 'pandas.core.frame.DataFrame'>\n",
      "Int64Index: 2141 entries, 0 to 2355\n",
      "Data columns (total 9 columns):\n",
      "tweet_id              2141 non-null object\n",
      "date                  2141 non-null datetime64[ns]\n",
      "time                  2141 non-null object\n",
      "source                2141 non-null object\n",
      "text                  2141 non-null object\n",
      "rating_numerator      2141 non-null int64\n",
      "rating_denominator    2141 non-null int64\n",
      "name                  1384 non-null object\n",
      "stage                 332 non-null object\n",
      "dtypes: datetime64[ns](1), int64(2), object(6)\n",
      "memory usage: 167.3+ KB\n"
     ]
    }
   ],
   "source": [
    "twitter_archive.info()"
   ]
  },
  {
   "cell_type": "markdown",
   "metadata": {},
   "source": [
    "#### Define\n",
    "\n",
    "Merge the three data sets into one.\n",
    "\n",
    "#### Code"
   ]
  },
  {
   "cell_type": "code",
   "execution_count": 60,
   "metadata": {
    "collapsed": true
   },
   "outputs": [],
   "source": [
    "twitter_archive_master = twitter_archive.merge(image_prediction, how = 'inner', on = 'tweet_id').merge(tweet_counts, how = 'inner', on = 'tweet_id')"
   ]
  },
  {
   "cell_type": "markdown",
   "metadata": {},
   "source": [
    "#### Test"
   ]
  },
  {
   "cell_type": "code",
   "execution_count": 61,
   "metadata": {},
   "outputs": [
    {
     "name": "stdout",
     "output_type": "stream",
     "text": [
      "<class 'pandas.core.frame.DataFrame'>\n",
      "Int64Index: 1965 entries, 0 to 1964\n",
      "Data columns (total 20 columns):\n",
      "tweet_id              1965 non-null object\n",
      "date                  1965 non-null datetime64[ns]\n",
      "time                  1965 non-null object\n",
      "source                1965 non-null object\n",
      "text                  1965 non-null object\n",
      "rating_numerator      1965 non-null int64\n",
      "rating_denominator    1965 non-null int64\n",
      "name                  1343 non-null object\n",
      "stage                 295 non-null object\n",
      "p1                    1965 non-null object\n",
      "p1_conf               1965 non-null float64\n",
      "p1_dog                1965 non-null bool\n",
      "p2                    1965 non-null object\n",
      "p2_conf               1965 non-null float64\n",
      "p2_dog                1965 non-null bool\n",
      "p3                    1965 non-null object\n",
      "p3_conf               1965 non-null float64\n",
      "p3_dog                1965 non-null bool\n",
      "retweet_count         1965 non-null int64\n",
      "favourite_count       1965 non-null int64\n",
      "dtypes: bool(3), datetime64[ns](1), float64(3), int64(4), object(9)\n",
      "memory usage: 282.1+ KB\n"
     ]
    }
   ],
   "source": [
    "twitter_archive_master.info()"
   ]
  },
  {
   "cell_type": "markdown",
   "metadata": {},
   "source": [
    "#### Export merged data as `twitter_archive_master.csv`"
   ]
  },
  {
   "cell_type": "code",
   "execution_count": 62,
   "metadata": {
    "collapsed": true
   },
   "outputs": [],
   "source": [
    "twitter_archive_master.to_csv('twitter_archive_master.csv')"
   ]
  },
  {
   "cell_type": "markdown",
   "metadata": {},
   "source": [
    "## Analysis"
   ]
  },
  {
   "cell_type": "code",
   "execution_count": 149,
   "metadata": {},
   "outputs": [
    {
     "data": {
      "image/png": "[encoded data removed]",
      "text/plain": [
       "<matplotlib.figure.Figure at 0x1e88b76fba8>"
      ]
     },
     "metadata": {},
     "output_type": "display_data"
    }
   ],
   "source": [
    "twitter_archive_master.p1.value_counts(ascending = True).tail(10).plot(kind = 'barh');\n",
    "plt.xlabel('Count');\n",
    "plt.title('Top 10 Most Tweeted Dog Breeds (Based on Predictions)')\n",
    "plt.tight_layout();\n",
    "plt.savefig('top10.png')"
   ]
  },
  {
   "cell_type": "code",
   "execution_count": 104,
   "metadata": {},
   "outputs": [],
   "source": [
    "twitter_archive_master['year'] = twitter_archive_master.date.dt.strftime('%Y')\n",
    "twitter_archive_master['month'] = twitter_archive_master.date.dt.strftime('%m')\n",
    "retweet_counts = twitter_archive_master.groupby(['year','month'])['retweet_count'].agg('mean').reset_index()\n",
    "retweet2015 = retweet_counts[retweet_counts.year == '2015']\n",
    "retweet2016 = retweet_counts[retweet_counts.year == '2016']\n",
    "retweet2017 = retweet_counts[retweet_counts.year == '2017']"
   ]
  },
  {
   "cell_type": "code",
   "execution_count": 126,
   "metadata": {},
   "outputs": [
    {
     "data": {
      "image/png": "[encoded data removed]",
      "text/plain": [
       "<matplotlib.figure.Figure at 0x1e88d16e908>"
      ]
     },
     "metadata": {},
     "output_type": "display_data"
    }
   ],
   "source": [
    "plot2015_ = plt.plot(retweet2015.month, retweet2015.retweet_count, label = '2015')\n",
    "plot2016_ = plt.plot(retweet2016.month, retweet2016.retweet_count, label = '2016')\n",
    "plot2017_ = plt.plot(retweet2017.month, retweet2017.retweet_count, label = '2017')\n",
    "plt.legend();\n",
    "plt.xlabel('Month');\n",
    "plt.ylabel('Retweet Counts');\n",
    "plt.title('Average Retweet Counts Recorded')\n",
    "plt.xticks(np.arange(1,13,1));\n",
    "plt.savefig('fav_counts.png')"
   ]
  },
  {
   "cell_type": "code",
   "execution_count": 127,
   "metadata": {},
   "outputs": [
    {
     "data": {
      "image/png": "[encoded data removed]",
      "text/plain": [
       "<matplotlib.figure.Figure at 0x1e88cdd5da0>"
      ]
     },
     "metadata": {},
     "output_type": "display_data"
    }
   ],
   "source": [
    "fav_counts = twitter_archive_master.groupby(['year','month'])['favourite_count'].agg('mean').reset_index()\n",
    "fav2015 = fav_counts[fav_counts.year == '2015']\n",
    "fav2016 = fav_counts[fav_counts.year == '2016']\n",
    "fav2017 = fav_counts[fav_counts.year == '2017']\n",
    "plot2015_ = plt.plot(fav2015.month, fav2015.favourite_count, label = '2015')\n",
    "plot2016_ = plt.plot(fav2016.month, fav2016.favourite_count, label = '2016')\n",
    "plot2017_ = plt.plot(fav2017.month, fav2017.favourite_count, label = '2017')\n",
    "plt.legend();\n",
    "plt.xlabel('Month');\n",
    "plt.ylabel('Favourite Counts');\n",
    "plt.title('Average Favourite Counts Recorded')\n",
    "plt.xticks(np.arange(1,13,1));\n",
    "plt.savefig('retweet_counts.png')"
   ]
  },
  {
   "cell_type": "code",
   "execution_count": 130,
   "metadata": {},
   "outputs": [
    {
     "data": {
      "image/png": "[encoded data removed]",
      "text/plain": [
       "<matplotlib.figure.Figure at 0x1e88cbe2080>"
      ]
     },
     "metadata": {},
     "output_type": "display_data"
    }
   ],
   "source": [
    "tweet_counts = twitter_archive_master.groupby(['year','month'])['tweet_id'].agg('count').reset_index()\n",
    "tweet2015 = tweet_counts[tweet_counts.year == '2015']\n",
    "tweet2016 = tweet_counts[tweet_counts.year == '2016']\n",
    "tweet2017 = tweet_counts[tweet_counts.year == '2017']\n",
    "plot2015_ = plt.plot(tweet2015.month, tweet2015.tweet_id, label = '2015')\n",
    "plot2016_ = plt.plot(tweet2016.month, tweet2016.tweet_id, label = '2016')\n",
    "plot2017_ = plt.plot(tweet2017.month, tweet2017.tweet_id, label = '2017')\n",
    "plt.legend();\n",
    "plt.xlabel('Month');\n",
    "plt.ylabel('Number of Tweets');\n",
    "plt.title('Total Number of Tweets Recorded')\n",
    "plt.xticks(np.arange(1,13,1));\n",
    "plt.savefig('numtweet_counts.png')"
   ]
  },
  {
   "cell_type": "code",
   "execution_count": 148,
   "metadata": {},
   "outputs": [
    {
     "data": {
      "image/png": "[encoded data removed]",
      "text/plain": [
       "<matplotlib.figure.Figure at 0x1e88cf17fd0>"
      ]
     },
     "metadata": {},
     "output_type": "display_data"
    }
   ],
   "source": [
    "twitter_archive_master.stage.value_counts().plot(kind = 'bar');\n",
    "plt.xlabel('Dog \"Stage\"');\n",
    "plt.ylabel('Counts');\n",
    "plt.title('Usage of Dog Slang');\n",
    "plt.tight_layout();\n",
    "plt.savefig('dogslang.png')"
   ]
  }
 ],
 "metadata": {
  "kernelspec": {
   "display_name": "Python 3",
   "language": "python",
   "name": "python3"
  },
  "language_info": {
   "codemirror_mode": {
    "name": "ipython",
    "version": 3
   },
   "file_extension": ".py",
   "mimetype": "text/x-python",
   "name": "python",
   "nbconvert_exporter": "python",
   "pygments_lexer": "ipython3",
   "version": "3.6.2"
  }
 },
 "nbformat": 4,
 "nbformat_minor": 2
}
